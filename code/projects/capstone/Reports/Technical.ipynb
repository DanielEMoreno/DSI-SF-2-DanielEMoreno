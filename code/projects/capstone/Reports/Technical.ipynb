{
 "cells": [
  {
   "cell_type": "markdown",
   "metadata": {},
   "source": [
    "# #Part 1- Sentiment"
   ]
  },
  {
   "cell_type": "markdown",
   "metadata": {},
   "source": [
    "# 1. Problem Statement\n"
   ]
  },
  {
   "cell_type": "markdown",
   "metadata": {},
   "source": [
    "The reviews that a videogame recieves on steam is related with the amount of poblissity it gets. On  the steam reviews either recommend the game or dont recommend the game, this is very ambiguous to the degree that a reviewer makes their decision.\n",
    "\n",
    "The overall success a videogame recieves is not solely a result of the summation of reviews, however I plan to determine a relationship between the sentiment of a review, and the amount of time that reviewer has played the videogame that they reviewed. In theory, the more positive someone's review would influence how much they play int he future after posting that review."
   ]
  },
  {
   "cell_type": "code",
   "execution_count": 3,
   "metadata": {
    "collapsed": false
   },
   "outputs": [
    {
     "name": "stderr",
     "output_type": "stream",
     "text": [
      "/home/dsi-student/anaconda2/envs/dsi/lib/python2.7/site-packages/sklearn/cross_validation.py:44: DeprecationWarning: This module was deprecated in version 0.18 in favor of the model_selection module into which all the refactored classes and functions are moved. Also note that the interface of the new CV iterators are different from that of this module. This module will be removed in 0.20.\n",
      "  \"This module will be removed in 0.20.\", DeprecationWarning)\n",
      "/home/dsi-student/anaconda2/envs/dsi/lib/python2.7/site-packages/sklearn/grid_search.py:43: DeprecationWarning: This module was deprecated in version 0.18 in favor of the model_selection module into which all the refactored classes and functions are moved. This module will be removed in 0.20.\n",
      "  DeprecationWarning)\n",
      "/home/dsi-student/anaconda2/envs/dsi/lib/python2.7/site-packages/sklearn/lda.py:4: DeprecationWarning: lda.LDA has been moved to discriminant_analysis.LinearDiscriminantAnalysis in 0.17 and will be removed in 0.19\n",
      "  \"in 0.17 and will be removed in 0.19\", DeprecationWarning)\n"
     ]
    }
   ],
   "source": [
    "import pandas as pd\n",
    "import numpy as np\n",
    "import pickle\n",
    "import math\n",
    "import json\n",
    "import requests\n",
    "import seaborn as sns\n",
    "import matplotlib.pyplot as plt\n",
    "import unirest\n",
    "import datetime\n",
    "import patsy\n",
    "from requests import get\n",
    "from string import find\n",
    "from string import digits\n",
    "from textblob import TextBlob\n",
    "\n",
    "from sklearn.metrics import accuracy_score, precision_score, classification_report, confusion_matrix\n",
    "from sklearn.naive_bayes import BernoulliNB\n",
    "from sklearn.cross_validation import cross_val_score, train_test_split, KFold\n",
    "from sklearn.linear_model import LinearRegression, LogisticRegressionCV, LogisticRegression\n",
    "from sklearn import grid_search\n",
    "from sklearn.preprocessing import StandardScaler\n",
    "from gensim import corpora, models, matutils\n",
    "from sklearn.feature_extraction.text import CountVectorizer, TfidfVectorizer\n",
    "from collections import defaultdict\n",
    "\n",
    "import valve.steam.id as sid\n",
    "\n",
    "from nltk.corpus import stopwords\n",
    "from sklearn.lda import LDA\n",
    "from lxml import html\n",
    "\n",
    "\n",
    "%matplotlib inline"
   ]
  },
  {
   "cell_type": "code",
   "execution_count": 4,
   "metadata": {
    "collapsed": false
   },
   "outputs": [
    {
     "name": "stdout",
     "output_type": "stream",
     "text": [
      "Shape of dota data =  (9720, 27)\n",
      "Shape of elderscrolls data =  (7165, 27)\n",
      "Shape of tf2 data =  (5676, 27)\n",
      "Shape of civ data =  (7467, 27)\n",
      "Shape of gta data =  (13349, 27)\n",
      "Shape of gmod data =  (7151, 27)\n",
      "Shape of football manager data =  (1522, 27)\n",
      "Shape of csgo data =  (7073, 27)\n",
      "Shape of cs data =  (6040, 27)\n",
      "Shape of warframe data =  (7123, 27)\n",
      "Shape of arma data =  (7151, 27)\n"
     ]
    }
   ],
   "source": [
    "#Reading in the data\n",
    "dota = 'Dota_2.jsonlines.txt'\n",
    "elder = 'The_Elder_Scrolls_V.jsonlines.txt' \n",
    "tf2 = 'Team_Fortress_2.jsonlines.txt'\n",
    "civ = 'Sid_Meiers_Civilization_5.jsonlines.txt'\n",
    "gta = 'Grand_Theft_Auto_V.jsonlines.txt'\n",
    "gmod = 'Garrys_Mod.jsonlines.txt'\n",
    "fbm = 'Football_Manager_2015.jsonlines.txt'\n",
    "csgo = 'Counter_Strike_Global_Offensive.jsonlines.txt'\n",
    "cs = 'Counter_Strike.jsonlines.json'\n",
    "warframe = 'Warframe.jsonlines.txt'\n",
    "arma = 'Arma_3.jsonlines.json'\n",
    "\n",
    "dota_data = []\n",
    "with open(dota) as data_file:\n",
    "    for line in data_file:\n",
    "        dota_data.append(json.loads(line))\n",
    "elder_data = []\n",
    "with open(elder) as data_file:\n",
    "    for line in data_file:\n",
    "        elder_data.append(json.loads(line))\n",
    "tf2_data = []\n",
    "with open(tf2) as data_file:\n",
    "    for line in data_file:\n",
    "        tf2_data.append(json.loads(line))\n",
    "civ_data = []        \n",
    "with open(civ) as data_file:\n",
    "    for line in data_file:\n",
    "        civ_data.append(json.loads(line))\n",
    "gta_data = []       \n",
    "with open(gta) as data_file:\n",
    "    for line in data_file:\n",
    "        gta_data.append(json.loads(line))\n",
    "gmod_data = []        \n",
    "with open(gmod) as data_file:\n",
    "    for line in data_file:\n",
    "        gmod_data.append(json.loads(line))\n",
    "fbm_data = []        \n",
    "with open(fbm) as data_file:\n",
    "    for line in data_file:\n",
    "        fbm_data.append(json.loads(line))\n",
    "csgo_data = []        \n",
    "with open(csgo) as data_file:\n",
    "    for line in data_file:\n",
    "        csgo_data.append(json.loads(line))\n",
    "cs_data = []        \n",
    "with open(cs) as data_file:\n",
    "    for line in data_file:\n",
    "        cs_data.append(json.loads(line))\n",
    "warframe_data = []      \n",
    "with open(warframe) as data_file:\n",
    "    for line in data_file:\n",
    "        warframe_data.append(json.loads(line))\n",
    "arma_data = []        \n",
    "with open(arma) as data_file:\n",
    "    for line in data_file:\n",
    "        arma_data.append(json.loads(line))\n",
    "        \n",
    "dota_df = pd.DataFrame(dota_data)\n",
    "print \"Shape of dota data = \", dota_df.shape\n",
    "elder_df = pd.DataFrame(elder_data)\n",
    "print \"Shape of elderscrolls data = \", elder_df.shape\n",
    "tf2_df = pd.DataFrame(tf2_data)\n",
    "print \"Shape of tf2 data = \",tf2_df.shape\n",
    "civ_df = pd.DataFrame(civ_data)\n",
    "print \"Shape of civ data = \", civ_df.shape\n",
    "gta_df = pd.DataFrame(gta_data)\n",
    "print \"Shape of gta data = \", gta_df.shape\n",
    "gmod_df = pd.DataFrame(gmod_data)\n",
    "print \"Shape of gmod data = \", gmod_df.shape\n",
    "fbm_df = pd.DataFrame(fbm_data)\n",
    "print \"Shape of football manager data = \", fbm_df.shape\n",
    "csgo_df = pd.DataFrame(csgo_data)\n",
    "print \"Shape of csgo data = \", csgo_df.shape\n",
    "cs_df = pd.DataFrame(cs_data)\n",
    "print \"Shape of cs data = \", cs_df.shape\n",
    "warframe_df = pd.DataFrame(warframe_data)\n",
    "print \"Shape of warframe data = \", warframe_df.shape\n",
    "arma_df = pd.DataFrame(arma_data)\n",
    "print \"Shape of arma data = \", arma_df.shape"
   ]
  },
  {
   "cell_type": "markdown",
   "metadata": {},
   "source": [
    "# 2. Description of Data"
   ]
  },
  {
   "cell_type": "markdown",
   "metadata": {},
   "source": [
    "The data I used was obtained from a github user who was trying to predict user experience based on the reviews they scraped.\n",
    "\n",
    "From this repo: https://github.com/mulhod/steam_reviews\n",
    "\n",
    "The data consists of 28 columns:\n",
    "u'achievement_progress' - three part  dictionary containing amount of possible achievements across games, amount of\n",
    "achievements earned, and a percent representation of completion\n",
    "\n",
    "\n",
    "Columns:\n",
    "==================================================================\n",
    "\n",
    "u'date_posted' - Timestamp representing the date at which the reviewer posted the review\n",
    "\n",
    "u'date_updated' - Timestamp representing the most recent date at which the reviewer updated the review\n",
    "\n",
    "u'found_helpful_percentage' - Percent representation of users who found the review helpful out of all users who voted that it was helpful or unhelpful\n",
    "\n",
    "u'friend_player_level'\n",
    "\n",
    "u'num_badges' - Number of Steam profile badges the user has accumulated\n",
    "\n",
    "u'num_comments' - Number of comments on the review\n",
    "\n",
    "u'num_found_funny' - Number of users who found the review funny\n",
    "\n",
    "u'num_found_helpful' - Number of users who found the review helpful\n",
    "\n",
    "u'num_found_unhelpful' - Number of users who found the review unhelpful\n",
    "\n",
    "u'num_friends' - Number of friends the reviewer had\n",
    "\n",
    "u'num_games_owned' - Number of games the reviewer owns\n",
    "\n",
    "u'num_groups' - Number of groups the reviewer is a member of\n",
    "\n",
    "u'num_guides' - Number of video-game guides the reviewer has created\n",
    "\n",
    "u'num_reviews' - Number of reviews the reviewer has posted\n",
    "\n",
    "u'num_screenshots' - Number of screenshots the reviewer has taken\n",
    "\n",
    "u'num_voted_helpfulness' - Number of users who found the review helpful\n",
    "\n",
    "u'num_workshop_items' - Number of workshop items the reviewer has created\n",
    "\n",
    "u'orig_url'- Original URL of review   \n",
    "\n",
    "u'profile_url' - Reviewer profile URL\n",
    "\n",
    "u'rating' - Rating the reviewer gave the game either recommending the game, or not recommending the game\n",
    "\n",
    "u'review' - Full body of review text\n",
    "\n",
    "u'review_url' - URL corresponding to the review\n",
    "\n",
    "u'steam_id_number' - 64-Bit Steam-ID number\n",
    "\n",
    "u'total_game_hours' - Summative amount of hours game has been played\n",
    "\n",
    "u'total_game_hours_last_two_weeks' - Total hours reviewer has played reviewed videogame in the past two weeks\n",
    "\n",
    "u'username' - The user alias that in some cases, is part of the profile_URL               \n"
   ]
  },
  {
   "cell_type": "markdown",
   "metadata": {},
   "source": [
    "# 3. Code relevant to cleaning"
   ]
  },
  {
   "cell_type": "code",
   "execution_count": 15,
   "metadata": {
    "collapsed": true
   },
   "outputs": [],
   "source": [
    "game_dfs = [dota_df, elder_df, tf2_df, civ_df, \n",
    "            gta_df, gmod_df, fbm_df, csgo_df, \n",
    "            cs_df, warframe_df, arma_df]"
   ]
  },
  {
   "cell_type": "code",
   "execution_count": 5,
   "metadata": {
    "collapsed": false
   },
   "outputs": [],
   "source": [
    "# Hardcoding in the game_ids so I can access them on the fly when retrieving updated hours played.\n",
    "dota_df['game_id'] = 570\n",
    "elder_df['game_id'] = 72850\n",
    "tf2_df['game_id'] = 440\n",
    "civ_df['game_id'] = 8930\n",
    "gta_df['game_id'] = 271590\n",
    "gmod_df['game_id'] = 4000\n",
    "fbm_df['game_id'] = 295270\n",
    "csgo_df['game_id'] = 730\n",
    "cs_df['game_id'] = 10\n",
    "warframe_df['game_id'] = 230410\n",
    "arma_df['game_id'] = 107410"
   ]
  },
  {
   "cell_type": "code",
   "execution_count": 6,
   "metadata": {
    "collapsed": true
   },
   "outputs": [],
   "source": [
    "BASE = long(76561197960265728)\n",
    "PREFIX = 'U:1:'\n",
    "STEAM_COMMUNITY = 'http://steamcommunity.com/id/'\n",
    "STEAM_API_KEY = '9322F9CA7232748D973D043702070B16'\n",
    "\n",
    "\n",
    "########################################\n",
    "# Class Courtesy of:                   #\n",
    "# https://github.com/annasapek/steamid #\n",
    "########################################\n",
    "\n",
    "# For converting the 'Vanity URL' steam profile links to actual steam ids, usable by the steam web API\n",
    "class NoSuchSteamIDError(Exception):\n",
    "\tpass\n",
    "\n",
    "def get_64bit_steam_id(vanityurl):\n",
    "\t\"\"\" Retrieves the 64-bit Steam ID for the given vanity url\n",
    "\t\teg. http://steamcommunity.com/id/vanityurl -> xxxxxxxxxxxxxxxxx\n",
    "\t\n",
    "\t\"\"\"\t\n",
    "\t\n",
    "\tif vanityurl.startswith(STEAM_COMMUNITY):\n",
    "\t\tvanityurl = vanityurl[len(STEAM_COMMUNITY):]\n",
    "\t\n",
    "\tRESOLVE_VANITY_URL = \\\n",
    "\t\t'http://api.steampowered.com/ISteamUser/ResolveVanityURL/v0001/?key=%s&vanityurl=%s'\n",
    "\tif vanityurl == None:\n",
    "\t\traise ValueError('Must provide vanityurl')\n",
    "\t\texit(1)\n",
    "\telse:\n",
    "\t\tresult = get(RESOLVE_VANITY_URL % (STEAM_API_KEY, vanityurl))\n",
    "\t\tif result.status_code == 403:\n",
    "\t\t\traise ValueError('Invalid Steam API key: %s' % STEAM_API_KEY)\n",
    "\t\telse:\n",
    "\t\t\tresult.raise_for_status()\n",
    "\t\t\tdata = result.json()\n",
    "\t\t\tif data['response']['success'] == 1:\n",
    "\t\t\t\treturn data['response']['steamid']\n",
    "\t\t\telse:\n",
    "\t\t\t\traise NoSuchSteamIDError('Could not resolve vanity url: %s' % vanityurl)\n",
    "\t\t\t\texit(1)\n",
    "\n",
    "def get_32bit_steam_id(vanityurl):\n",
    "\t\"\"\" Retrieves the 32-bit Steam ID for the given vanity url\n",
    "\t\teg. http://steamcommunity.com/id/vanityurl -> U:1:XXXXXXXX\n",
    "\t\n",
    "\t\"\"\"\n",
    "\t\n",
    "\tsteam_id = long(get_64bit_steam_id(vanityurl))\n",
    "\treturn 'U:1:%s' % (steam_id - BASE)\n",
    "\n",
    "def convert_32bit_to_64bit(steamid):\n",
    "\t\"\"\" Given a valid 32-bit Steam ID, in the form U:1:XXXXXX or XXXXXX, returns the \n",
    "\t\tequivalent 64-bit Steam ID in the form xxxxxxxxxxxxxxxxx\n",
    "\t\"\"\"\n",
    "\t\n",
    "\tu_index = find(str(steamid), PREFIX)\n",
    "\tif u_index != -1:\n",
    "\t\tsteamid = steamid[u_index + len(PREFIX):]\n",
    "\tvalidate_id_number(steamid)\n",
    "\treturn str(long(steamid) + BASE)\n",
    "\n",
    "def convert_64bit_to_32bit(steamid):\n",
    "\t\"\"\" Given a valid 64-bit Steam ID, in the form xxxxxxxxxxxxxxxxx, returns the \n",
    "\t\tequivalent 32-bit Steam ID in the form U:1:XXXXXX\n",
    "\t\"\"\"\n",
    "\t\n",
    "\tvalidate_id_number(steamid)\n",
    "\treturn 'U:1:%s' % (long(steamid) - BASE)\n",
    "\n",
    "def validate_id_number(value):\n",
    "\t\"\"\" Given an id number, returns true if it only contains digits\n",
    "\t\"\"\"\n",
    "\t\n",
    "\tfor char in str(value):\n",
    "\t\tif char not in digits:\n",
    "\t\t\traise ValueError('%s is not a valid number' % value)"
   ]
  },
  {
   "cell_type": "code",
   "execution_count": 7,
   "metadata": {
    "collapsed": true
   },
   "outputs": [],
   "source": [
    "#Based on a \"vanity\" URL (URL: http://steamcommunity.com/id/<your alias>/), return the steam ID, if unretrievable, return NaN\n",
    "def clean_df_profile_url(passed_df):\n",
    "    game_id = passed_df.ix[0, 'game_id']\n",
    "    #For each row, steamURL in passed_df\n",
    "    for i, steam_url in enumerate(passed_df['profile_url']):\n",
    "        try:\n",
    "            # Try to fetch the steam ID\n",
    "            steam_id = get_64bit_steam_id(str(steam_url))\n",
    "            passed_df.ix[i, 'parsed_steam_ids'] = steam_id\n",
    "        except:\n",
    "            # If unretrievable set passed_df.ix[row, parsed_steam_ids] to NaN\n",
    "            passed_df.ix[i, 'parsed_steam_ids'] = np.nan\n",
    "    print game_id\n",
    "    filepath = '../capstone/' + str(game_id) +'.pkl'\n",
    "    pd.to_pickle(passed_df, filepath)\n",
    "    print 'saved: ', filepath"
   ]
  },
  {
   "cell_type": "code",
   "execution_count": 8,
   "metadata": {
    "collapsed": true
   },
   "outputs": [],
   "source": [
    "def fetch_hours_played(passed_df):\n",
    "    # Specific identifier for the game being parsed\n",
    "    game_id = passed_df.ix[0, 'game_id']\n",
    "    #For each row, steam ID available in passed_df\n",
    "    for i, steam_id_ in enumerate(passed_df['parsed_steam_ids']):\n",
    "        requestlink = 'http://api.steampowered.com/IPlayerService/GetOwnedGames/v0001?key=9322F9CA7232748D973D043702070B16&steamid='+ \\\n",
    "        str(steam_id_) + '&include_played_free_games=1&format=json'\n",
    "        #If steam ID in row is not NaN from clean_df_profile_url\n",
    "        if 'nan' not in requestlink:\n",
    "            stats = requests.get(requestlink)\n",
    "            content = stats.content\n",
    "            formatted = json.loads(content)\n",
    "            try:\n",
    "                # For all games listed in JSON response, this encompasses all games for a steam user\n",
    "                for x in formatted['response']['games']:\n",
    "                    if x['appid'] == game_id:\n",
    "                        passed_df.ix[i, 'hours_played_now'] = x['playtime_forever']\n",
    "            except:\n",
    "                #If the game reviwed was not found, set passed_df.ix[row, 'hours_played_now'] to nan\n",
    "                passed_df.ix[i, 'hours_played_now'] =  np.nan\n",
    "        else:\n",
    "            #If the steam ID was a nan, set passed_df.ix[row, 'hours_played_now'] to nan\n",
    "            passed_df.ix[i, 'hours_played_now'] = np.nan\n",
    "    #Save a file specific to the game ID of the dataframe being traversed\n",
    "    filepath = '../capstone/final_' + str(game_id) +'.pkl'\n",
    "    pd.to_pickle(passed_df, filepath)\n",
    "    print 'saved_final: ', filepath"
   ]
  },
  {
   "cell_type": "code",
   "execution_count": 9,
   "metadata": {
    "collapsed": true
   },
   "outputs": [],
   "source": [
    "# After getting steam ids and time played, pickled files:\n",
    "dota_with_time = pd.read_pickle('../capstone/final_570.pkl')\n",
    "elder_with_time = pd.read_pickle('../capstone/final_72850.pkl')\n",
    "tf2_with_time = pd.read_pickle('../capstone/final_440.pkl')\n",
    "civ_with_time = pd.read_pickle('../capstone/final_8930.pkl')\n",
    "gta_with_time = pd.read_pickle('../capstone/final_271590.pkl')\n",
    "gmod_with_time = pd.read_pickle('../capstone/final_4000.pkl')\n",
    "fbm_with_time = pd.read_pickle('../capstone/final_295270.pkl')\n",
    "csgo_with_time = pd.read_pickle('../capstone/final_730.pkl')\n",
    "cs_with_time = pd.read_pickle('../capstone/final_10.pkl')\n",
    "warframe_with_time = pd.read_pickle('../capstone/final_230410.pkl')\n",
    "arma_with_time = pd.read_pickle('../capstone/final_107410.pkl')"
   ]
  },
  {
   "cell_type": "code",
   "execution_count": 10,
   "metadata": {
    "collapsed": true
   },
   "outputs": [],
   "source": [
    "#Subset data by items that have non-null values for the column pulled from the steam web API\n",
    "dota_with_time_nonan = dota_with_time[pd.notnull(dota_with_time['hours_played_now'])]\n",
    "elder_with_time_nonan = elder_with_time[pd.notnull(elder_with_time['hours_played_now'])]\n",
    "tf2_with_time_nonan = tf2_with_time[pd.notnull(tf2_with_time['hours_played_now'])]\n",
    "civ_with_time_nonan = civ_with_time[pd.notnull(civ_with_time['hours_played_now'])]\n",
    "gta_with_time_nonan = gta_with_time[pd.notnull(gta_with_time['hours_played_now'])]\n",
    "fbm_with_time_nonan = fbm_with_time[pd.notnull(fbm_with_time['hours_played_now'])]\n",
    "gmod_with_time_nonan = gmod_with_time[pd.notnull(gmod_with_time['hours_played_now'])]\n",
    "csgo_with_time_nonan = csgo_with_time[pd.notnull(csgo_with_time['hours_played_now'])]\n",
    "cs_with_time_nonan = cs_with_time[pd.notnull(cs_with_time['hours_played_now'])]\n",
    "warframe_with_time_nonan = warframe_with_time[pd.notnull(warframe_with_time['hours_played_now'])]\n",
    "arma_with_time_nonan = arma_with_time[pd.notnull(arma_with_time['hours_played_now'])]"
   ]
  },
  {
   "cell_type": "code",
   "execution_count": 11,
   "metadata": {
    "collapsed": true
   },
   "outputs": [],
   "source": [
    "cleaned_dfs = [dota_with_time_nonan,  elder_with_time_nonan, tf2_with_time_nonan,\n",
    "              fbm_with_time_nonan, gta_with_time_nonan, civ_with_time_nonan, \n",
    "              gmod_with_time_nonan, csgo_with_time_nonan, cs_with_time_nonan, \n",
    "              arma_with_time_nonan, warframe_with_time_nonan]"
   ]
  },
  {
   "cell_type": "code",
   "execution_count": 12,
   "metadata": {
    "collapsed": false
   },
   "outputs": [
    {
     "name": "stderr",
     "output_type": "stream",
     "text": [
      "/home/dsi-student/anaconda2/envs/dsi/lib/python2.7/site-packages/ipykernel/__main__.py:3: SettingWithCopyWarning: \n",
      "A value is trying to be set on a copy of a slice from a DataFrame.\n",
      "Try using .loc[row_indexer,col_indexer] = value instead\n",
      "\n",
      "See the caveats in the documentation: http://pandas.pydata.org/pandas-docs/stable/indexing.html#indexing-view-versus-copy\n",
      "  app.launch_new_instance()\n",
      "/home/dsi-student/anaconda2/envs/dsi/lib/python2.7/site-packages/ipykernel/__main__.py:5: SettingWithCopyWarning: \n",
      "A value is trying to be set on a copy of a slice from a DataFrame.\n",
      "Try using .loc[row_indexer,col_indexer] = value instead\n",
      "\n",
      "See the caveats in the documentation: http://pandas.pydata.org/pandas-docs/stable/indexing.html#indexing-view-versus-copy\n",
      "/home/dsi-student/anaconda2/envs/dsi/lib/python2.7/site-packages/ipykernel/__main__.py:6: SettingWithCopyWarning: \n",
      "A value is trying to be set on a copy of a slice from a DataFrame.\n",
      "Try using .loc[row_indexer,col_indexer] = value instead\n",
      "\n",
      "See the caveats in the documentation: http://pandas.pydata.org/pandas-docs/stable/indexing.html#indexing-view-versus-copy\n",
      "/home/dsi-student/anaconda2/envs/dsi/lib/python2.7/site-packages/ipykernel/__main__.py:7: SettingWithCopyWarning: \n",
      "A value is trying to be set on a copy of a slice from a DataFrame.\n",
      "Try using .loc[row_indexer,col_indexer] = value instead\n",
      "\n",
      "See the caveats in the documentation: http://pandas.pydata.org/pandas-docs/stable/indexing.html#indexing-view-versus-copy\n",
      "/home/dsi-student/anaconda2/envs/dsi/lib/python2.7/site-packages/ipykernel/__main__.py:9: SettingWithCopyWarning: \n",
      "A value is trying to be set on a copy of a slice from a DataFrame.\n",
      "Try using .loc[row_indexer,col_indexer] = value instead\n",
      "\n",
      "See the caveats in the documentation: http://pandas.pydata.org/pandas-docs/stable/indexing.html#indexing-view-versus-copy\n",
      "/home/dsi-student/anaconda2/envs/dsi/lib/python2.7/site-packages/ipykernel/__main__.py:10: SettingWithCopyWarning: \n",
      "A value is trying to be set on a copy of a slice from a DataFrame.\n",
      "Try using .loc[row_indexer,col_indexer] = value instead\n",
      "\n",
      "See the caveats in the documentation: http://pandas.pydata.org/pandas-docs/stable/indexing.html#indexing-view-versus-copy\n"
     ]
    }
   ],
   "source": [
    "for x in cleaned_dfs:\n",
    "    # Hours played gets returned from the steam web API in minutes\n",
    "    x['hours_played_now'] = x['hours_played_now']/ 60.\n",
    "    # Difference in hours played\n",
    "    x['hours_played_diff'] = x['hours_played_now'] - x['total_game_hours']\n",
    "    x['date_posted'] = pd.to_datetime(x['date_posted'])\n",
    "    x['textblobobj'] = x['review'].map(TextBlob)\n",
    "    # Making textblob objects and creating sentiment ratings of each of the reviews\n",
    "    x['sentiment'] = x['textblobobj'].map(lambda z: z.sentiment[0])\n",
    "    x['subjectivity'] = x['textblobobj'].map(lambda z: z.sentiment[1])"
   ]
  },
  {
   "cell_type": "code",
   "execution_count": 13,
   "metadata": {
    "collapsed": true
   },
   "outputs": [],
   "source": [
    "# Some of the data was false in showingg the difference in time played as being than zero\n",
    "# Subsetting to data only represenative of a positive chnge in hours played\n",
    "dota_with_time_nonan_test = dota_with_time_nonan[dota_with_time_nonan['hours_played_diff'] > 0]\n",
    "elder_with_time_nonan_test = elder_with_time_nonan[elder_with_time_nonan['hours_played_diff'] > 0]\n",
    "tf2_with_time_nonan_test = tf2_with_time_nonan[tf2_with_time_nonan['hours_played_diff'] > 0]\n",
    "civ_with_time_nonan_test = civ_with_time_nonan[civ_with_time_nonan['hours_played_diff'] > 0]\n",
    "gta_with_time_nonan_test = gta_with_time_nonan[gta_with_time_nonan['hours_played_diff'] > 0]\n",
    "fbm_with_time_nonan_test = fbm_with_time_nonan[fbm_with_time_nonan['hours_played_diff'] > 0]\n",
    "gmod_with_time_nonan_test = gmod_with_time_nonan[gmod_with_time_nonan['hours_played_diff'] > 0]\n",
    "csgo_with_time_nonan_test = csgo_with_time_nonan[csgo_with_time_nonan['hours_played_diff'] > 0]\n",
    "cs_with_time_nonan_test = cs_with_time_nonan[cs_with_time_nonan['hours_played_diff'] > 0]\n",
    "warframe_with_time_nonan_test = warframe_with_time_nonan[warframe_with_time_nonan['hours_played_diff'] > 0]\n",
    "arma_with_time_nonan_test = arma_with_time_nonan[arma_with_time_nonan['hours_played_diff'] > 0]\n"
   ]
  },
  {
   "cell_type": "markdown",
   "metadata": {},
   "source": [
    "# 4. EDA"
   ]
  },
  {
   "cell_type": "code",
   "execution_count": 16,
   "metadata": {
    "collapsed": false
   },
   "outputs": [],
   "source": [
    "eda_list = [dota_with_time_nonan_test,  elder_with_time_nonan_test, tf2_with_time_nonan_test,\n",
    "              fbm_with_time_nonan_test, gta_with_time_nonan_test, civ_with_time_nonan_test, \n",
    "              gmod_with_time_nonan_test, csgo_with_time_nonan_test, cs_with_time_nonan_test, \n",
    "              arma_with_time_nonan_test, warframe_with_time_nonan_test]\n",
    "\n",
    "\n",
    "# Looking at the overall difference in hours played amongst all videogames\n",
    "list_to_plot = []\n",
    "for x in eda_list:\n",
    "    for y, z, a in zip(x['game_id'], x['rating'], x['hours_played_diff']):\n",
    "        list_to_plot.append((y, str(z), a))\n",
    "\n",
    "# Examining the counts of classes per game\n",
    "list_to_plot_pre = []\n",
    "for x in game_dfs:\n",
    "    for y, z in zip(x['game_id'], x['rating']):\n",
    "        list_to_plot_pre.append((y, str(z)))\n",
    "\n",
    "# Looking at the difference in hours played over the timeseries span of the reviews\n",
    "date_list = []\n",
    "for x in eda_list:\n",
    "    for y, z, a in zip(x['game_id'], x['date_posted'], x['hours_played_diff']):\n",
    "        date_list.append((y, z, a))\n",
    "        \n",
    "pre_plott = pd.DataFrame(list_to_plot_pre)\n",
    "plott = pd.DataFrame(list_to_plot)\n",
    "date_plott = pd.DataFrame(date_list)"
   ]
  },
  {
   "cell_type": "code",
   "execution_count": 35,
   "metadata": {
    "collapsed": false
   },
   "outputs": [
    {
     "data": {
      "text/plain": [
       "<matplotlib.axes._subplots.AxesSubplot at 0x7fd657e75ad0>"
      ]
     },
     "execution_count": 35,
     "metadata": {},
     "output_type": "execute_result"
    },
    {
     "data": {
      "image/png": "[encoded data removed]",
      "text/plain": [
       "<matplotlib.figure.Figure at 0x7fd657ebab50>"
      ]
     },
     "metadata": {},
     "output_type": "display_data"
    }
   ],
   "source": [
    "# Distributions of difference in hours played by post_date\n",
    "date_plott.plot(1, 2, figsize=(15, 5))"
   ]
  },
  {
   "cell_type": "code",
   "execution_count": 24,
   "metadata": {
    "collapsed": false
   },
   "outputs": [
    {
     "data": {
      "image/png": "[encoded data removed]",
      "text/plain": [
       "<matplotlib.figure.Figure at 0x7fd6860aadd0>"
      ]
     },
     "metadata": {},
     "output_type": "display_data"
    }
   ],
   "source": [
    "#distribution of difference in time played across games\n",
    "ax = plt.figure(figsize=(15, 5))\n",
    "ax = sns.distplot(plott[2])"
   ]
  },
  {
   "cell_type": "code",
   "execution_count": 26,
   "metadata": {
    "collapsed": false
   },
   "outputs": [
    {
     "name": "stdout",
     "output_type": "stream",
     "text": [
      "ERROR! Session/line number was not unique in database. History logging moved to new session 550\n"
     ]
    },
    {
     "data": {
      "image/png": "[encoded data removed]",
      "text/plain": [
       "<matplotlib.figure.Figure at 0x7fd656ba8990>"
      ]
     },
     "metadata": {},
     "output_type": "display_data"
    }
   ],
   "source": [
    "# Counts of reviews relative to one another\n",
    "sns.set_style('darkgrid')\n",
    "ax = plt.figure(figsize=(8,8))\n",
    "ax = sns.countplot(x=0, data=plott)"
   ]
  },
  {
   "cell_type": "markdown",
   "metadata": {},
   "source": [
    "From the original dataset totalling 79,437 reviews, only '' are left. Some of the user profiles in the original  dataset are unable to be retrieved, even after using the class I used from github. This won't be too big of a problem. Game '295270' won't be signifigant in my analysis as it has a fraction of the other reviews, but overall  the number of reviews across unique games is pretty similar ranging between 2000-4000. I also have an abundance of reviews for game '271590'."
   ]
  },
  {
   "cell_type": "code",
   "execution_count": 28,
   "metadata": {
    "collapsed": false
   },
   "outputs": [
    {
     "data": {
      "image/png": "[encoded data removed]",
      "text/plain": [
       "<matplotlib.figure.Figure at 0x7fd656f3c750>"
      ]
     },
     "metadata": {},
     "output_type": "display_data"
    }
   ],
   "source": [
    "# Boxplot to show local maxima of difference in hours played amongst all videogames\n",
    "ax = plt.figure(figsize=(10,10))\n",
    "ax = plt.ylim(-200, 6000)\n",
    "sns.boxplot(x=plott[0],  y=plott[2])\n",
    "ax = plt.ylabel('Difference in time played, by game')"
   ]
  },
  {
   "cell_type": "markdown",
   "metadata": {},
   "source": [
    "In this graph I am truncating outliers that have enormous differences in the time that they've played the game, as they are not representative of the population. Some of the games such as game 10 (Counter Strike) and 440 (Team Fortress 2) have higher differences than games like game 72850 (Skyrim) and 8930 (Sid Mier's Civilization 5) because of replayability. However Counterstrike and Team Fortress have lower differences overall because of how long ago they were released. \n",
    "\n",
    "With the case of Skyrim this could be due to any number of reasons as it was released November 11, 2011, Civ 5 being released September 21, 2010, whereas Counterstrike being released November 8, 2000, and Team Fortress 2 being released October 9, 2007. This is important as even years later, with the earliest review of my reviews being in 2010 there is definetly signifigance in the fact that people are still reviewing the game years after release, specifically in the case of Counterstrike.}"
   ]
  },
  {
   "cell_type": "code",
   "execution_count": 215,
   "metadata": {
    "collapsed": false,
    "scrolled": false
   },
   "outputs": [
    {
     "data": {
      "text/plain": [
       "<matplotlib.lines.Line2D at 0x7fd657d4bc90>"
      ]
     },
     "execution_count": 215,
     "metadata": {},
     "output_type": "execute_result"
    },
    {
     "data": {
      "image/png": "[encoded data removed]",
      "text/plain": [
       "<matplotlib.figure.Figure at 0x7fd653ac9a50>"
      ]
     },
     "metadata": {},
     "output_type": "display_data"
    },
    {
     "data": {
      "text/plain": [
       "<matplotlib.figure.Figure at 0x7fd666fb20d0>"
      ]
     },
     "metadata": {},
     "output_type": "display_data"
    }
   ],
   "source": [
    "sns.set_style('darkgrid')\n",
    "fig, (ax1, ax2) = plt.subplots(1, 2, figsize=(15, 10))\n",
    "fig = plt.figure(figsize=(8,8))\n",
    "ax1 = sns.countplot(x=1, data=plott, hue=0, ax=ax1, palette='hls')\n",
    "ax1.axhline(y=2000, color='gold')\n",
    "ax2 = sns.countplot(x=1, data=pre_plott, hue=0, ax=ax2, palette='hls')\n",
    "ax2.axhline(y=2000, color='gold')\n",
    "\n"
   ]
  },
  {
   "cell_type": "markdown",
   "metadata": {},
   "source": [
    "Above, the class imbalance that will become more relevant later on in the report."
   ]
  },
  {
   "cell_type": "markdown",
   "metadata": {},
   "source": [
    "# 5. Description of model choice"
   ]
  },
  {
   "cell_type": "markdown",
   "metadata": {},
   "source": [
    "Being able to depict whether or not there is a relationship between the amount of hours a user has played a videogame and the valence of the review they wrote is a very cut-and-dried task. Doing this with a linear regression is quick and easy, it also gives me a sure-fire way to determine whether or not there is a relationship. However this is very subjective due to the fact of my sentiment rating being depcited by a third party module.\n"
   ]
  },
  {
   "cell_type": "markdown",
   "metadata": {},
   "source": [
    "# 6. Models"
   ]
  },
  {
   "cell_type": "markdown",
   "metadata": {},
   "source": [
    "For the sake of maintaining relevance I will only fit and plot on one of the datasets, there are only miniscule differences between each of them when it comes to the difference in hours played and the sentiment score of the review."
   ]
  },
  {
   "cell_type": "markdown",
   "metadata": {},
   "source": [
    "### Linear Regression"
   ]
  },
  {
   "cell_type": "code",
   "execution_count": 36,
   "metadata": {
    "collapsed": false
   },
   "outputs": [],
   "source": [
    "lr = LinearRegression(normalize=True)\n",
    "\n",
    "ss = StandardScaler()\n",
    "\n",
    "formula = 'hours_played_diff ~ sentiment'\n",
    "\n",
    "y, x    = patsy.dmatrices(formula, data=dota_with_time_nonan_test, return_type='dataframe')\n",
    "\n",
    "# Standard Scaler because I'm comparing enormous values to a value between -1, and 1\n",
    "Xn = ss.fit_transform(x)"
   ]
  },
  {
   "cell_type": "code",
   "execution_count": 47,
   "metadata": {
    "collapsed": true
   },
   "outputs": [],
   "source": [
    "x_train, x_test, y_train, y_test = train_test_split(Xn, y, test_size=0.25)"
   ]
  },
  {
   "cell_type": "code",
   "execution_count": 48,
   "metadata": {
    "collapsed": false
   },
   "outputs": [
    {
     "data": {
      "text/plain": [
       "LinearRegression(copy_X=True, fit_intercept=True, n_jobs=1, normalize=True)"
      ]
     },
     "execution_count": 48,
     "metadata": {},
     "output_type": "execute_result"
    }
   ],
   "source": [
    "lr.fit(x_train, y_train)"
   ]
  },
  {
   "cell_type": "code",
   "execution_count": 206,
   "metadata": {
    "collapsed": false
   },
   "outputs": [
    {
     "name": "stdout",
     "output_type": "stream",
     "text": [
      "lr score: 0.000698437760814\n"
     ]
    }
   ],
   "source": [
    "print 'lr score:', lr.score(x_test, y_test)"
   ]
  },
  {
   "cell_type": "code",
   "execution_count": 59,
   "metadata": {
    "collapsed": false,
    "scrolled": false
   },
   "outputs": [
    {
     "data": {
      "image/png": "[encoded data removed]",
      "text/plain": [
       "<matplotlib.figure.Figure at 0x7fd655916990>"
      ]
     },
     "metadata": {},
     "output_type": "display_data"
    }
   ],
   "source": [
    "ax = plt.figure(figsize=(10,10))\n",
    "ax = sns.regplot(x=dota_with_time_nonan_test.sentiment, y=dota_with_time_nonan_test.hours_played_diff)"
   ]
  },
  {
   "cell_type": "markdown",
   "metadata": {},
   "source": [
    "# 7. Description of results"
   ]
  },
  {
   "cell_type": "markdown",
   "metadata": {
    "collapsed": true
   },
   "source": [
    "The regression R^2 score for all games lies around 0.00~ and thus, using the sentiment rating provided by textblob, there is no observable relationship what-so-ever between the amount a user played a videogame beyond their review, and the sentiment of that review. I believe if there were any relationship at all, the score of my model would diverge from 0, regardless of textblob's sentiment score.\n",
    "\n",
    "From the regplot we can see there are users on both ends of the spectrum, with sentiment scores for their review below zero and more than 1000 additional hours played, and the latter, with sentiment ranging greater than 0.5 and still the additional hours played not exceeding 1000.\n",
    "\n",
    "These are also very intersting results as there seems to be a pretty even spread amongst the points mapping the difference in hours played and the sentiment of the review, regardless of the class imbalance."
   ]
  },
  {
   "cell_type": "markdown",
   "metadata": {},
   "source": [
    "# 8. Conclusions about Sentiment"
   ]
  },
  {
   "cell_type": "markdown",
   "metadata": {
    "collapsed": true
   },
   "source": [
    "Looking at the linear regression we can see there is no apparent relationship between the sentiment of one's review and the amount they play the game that they review. It isn't far off to conclude that the amount someone has played is more related with how much they played the videogame at the time of reviewing, versus how positive or negative the review itself is."
   ]
  },
  {
   "cell_type": "markdown",
   "metadata": {},
   "source": [
    "# #Part-2 Event Specific Reviews"
   ]
  },
  {
   "cell_type": "markdown",
   "metadata": {},
   "source": [
    "# 1. Problem Statement"
   ]
  },
  {
   "cell_type": "markdown",
   "metadata": {},
   "source": [
    "Looking at the class imbalance stated before, there are two games that have a decent distribution of classes, those games are 72850 (Skyrim), 271590 (Grand Theft Auto V). Fitting text analytical models against other game datasets would be problematic as there are so few numbers of reviews that don't recommend the game, compared to the amount of reviews that recommend the game."
   ]
  },
  {
   "cell_type": "markdown",
   "metadata": {},
   "source": [
    "# 2. Description of model choice"
   ]
  },
  {
   "cell_type": "markdown",
   "metadata": {
    "collapsed": true
   },
   "source": [
    "In order to depict differences between the reviews that recommend and don't recommend the videogame I will use Naive Bayes to predict the likelihood of words appearing in the two different classes of review. This is so I can get immediate results without having to take multiple passes of the data, using a count vectorizer or TFIDF vectorizer I will more or less get the same effect of an LDA in determining common topics amongst the two classes, given the likelihood of the features for each class."
   ]
  },
  {
   "cell_type": "markdown",
   "metadata": {},
   "source": [
    "# 3. Models"
   ]
  },
  {
   "cell_type": "markdown",
   "metadata": {},
   "source": [
    "### Skyrim"
   ]
  },
  {
   "cell_type": "code",
   "execution_count": 189,
   "metadata": {
    "collapsed": false
   },
   "outputs": [],
   "source": [
    "custom_stopwords = list(stopwords.words('english'))\n",
    "skyrimwords = ['game', '10', 'play', 'valve', 'steam', 'like', 'skyrim']\n",
    "stopword_list = custom_stopwords + skyrimwords"
   ]
  },
  {
   "cell_type": "code",
   "execution_count": 190,
   "metadata": {
    "collapsed": false
   },
   "outputs": [],
   "source": [
    "cv= CountVectorizer(stop_words=custom_stopwords, ngram_range=(1, 2), binary=True, max_features=5000)\n",
    "words = cv.fit_transform(elder_with_time_nonan_test.review)"
   ]
  },
  {
   "cell_type": "code",
   "execution_count": 191,
   "metadata": {
    "collapsed": true
   },
   "outputs": [],
   "source": [
    "words_df = pd.DataFrame(words.todense(), columns=cv.get_feature_names())"
   ]
  },
  {
   "cell_type": "code",
   "execution_count": 192,
   "metadata": {
    "collapsed": false
   },
   "outputs": [],
   "source": [
    "xtrain, xtest, ytrain, ytest = train_test_split(words_df.values, elder_with_time_nonan_test.rating.values, test_size=0.25)"
   ]
  },
  {
   "cell_type": "code",
   "execution_count": 193,
   "metadata": {
    "collapsed": false
   },
   "outputs": [
    {
     "data": {
      "text/plain": [
       "BernoulliNB(alpha=1.0, binarize=0.0, class_prior=None, fit_prior=True)"
      ]
     },
     "execution_count": 193,
     "metadata": {},
     "output_type": "execute_result"
    }
   ],
   "source": [
    "nb = BernoulliNB()\n",
    "\n",
    "nb.fit(xtrain, ytrain)"
   ]
  },
  {
   "cell_type": "code",
   "execution_count": 201,
   "metadata": {
    "collapsed": false
   },
   "outputs": [],
   "source": [
    "baseline = []\n",
    "\n",
    "for x in ytrain:\n",
    "    if x == 'Recommended':\n",
    "        baseline.append(1)\n",
    "    else:\n",
    "        baseline.append(0)"
   ]
  },
  {
   "cell_type": "code",
   "execution_count": 202,
   "metadata": {
    "collapsed": false
   },
   "outputs": [
    {
     "name": "stdout",
     "output_type": "stream",
     "text": [
      "[ 0.70918367  0.71938776  0.69565217  0.75191816  0.71025641]\n",
      "0.717279634262\n",
      "0.462167689162\n"
     ]
    }
   ],
   "source": [
    "nb_scores = cross_val_score(BernoulliNB(), xtrain, ytrain, cv=5)\n",
    "print nb_scores\n",
    "print np.mean(nb_scores)\n",
    "\n",
    "# Baseline\n",
    "print 1 - np.mean(baseline)"
   ]
  },
  {
   "cell_type": "code",
   "execution_count": 79,
   "metadata": {
    "collapsed": false
   },
   "outputs": [
    {
     "data": {
      "text/html": [
       "<div>\n",
       "<table border=\"1\" class=\"dataframe\">\n",
       "  <thead>\n",
       "    <tr style=\"text-align: right;\">\n",
       "      <th></th>\n",
       "      <th>Not Recommend</th>\n",
       "      <th>Recommend</th>\n",
       "      <th>feature</th>\n",
       "    </tr>\n",
       "  </thead>\n",
       "  <tbody>\n",
       "    <tr>\n",
       "      <th>2859</th>\n",
       "      <td>0.697143</td>\n",
       "      <td>0.252535</td>\n",
       "      <td>mods</td>\n",
       "    </tr>\n",
       "    <tr>\n",
       "      <th>1611</th>\n",
       "      <td>0.486857</td>\n",
       "      <td>0.621198</td>\n",
       "      <td>game</td>\n",
       "    </tr>\n",
       "    <tr>\n",
       "      <th>3242</th>\n",
       "      <td>0.425143</td>\n",
       "      <td>0.035023</td>\n",
       "      <td>paid</td>\n",
       "    </tr>\n",
       "    <tr>\n",
       "      <th>3247</th>\n",
       "      <td>0.331429</td>\n",
       "      <td>0.027650</td>\n",
       "      <td>paid mods</td>\n",
       "    </tr>\n",
       "    <tr>\n",
       "      <th>4671</th>\n",
       "      <td>0.289143</td>\n",
       "      <td>0.013825</td>\n",
       "      <td>valve</td>\n",
       "    </tr>\n",
       "    <tr>\n",
       "      <th>438</th>\n",
       "      <td>0.212571</td>\n",
       "      <td>0.062673</td>\n",
       "      <td>bethesda</td>\n",
       "    </tr>\n",
       "    <tr>\n",
       "      <th>2807</th>\n",
       "      <td>0.202286</td>\n",
       "      <td>0.114286</td>\n",
       "      <td>mod</td>\n",
       "    </tr>\n",
       "    <tr>\n",
       "      <th>3273</th>\n",
       "      <td>0.184000</td>\n",
       "      <td>0.014747</td>\n",
       "      <td>pay</td>\n",
       "    </tr>\n",
       "    <tr>\n",
       "      <th>4024</th>\n",
       "      <td>0.147429</td>\n",
       "      <td>0.321659</td>\n",
       "      <td>skyrim</td>\n",
       "    </tr>\n",
       "    <tr>\n",
       "      <th>748</th>\n",
       "      <td>0.145143</td>\n",
       "      <td>0.074654</td>\n",
       "      <td>community</td>\n",
       "    </tr>\n",
       "  </tbody>\n",
       "</table>\n",
       "</div>"
      ],
      "text/plain": [
       "      Not Recommend  Recommend    feature\n",
       "2859       0.697143   0.252535       mods\n",
       "1611       0.486857   0.621198       game\n",
       "3242       0.425143   0.035023       paid\n",
       "3247       0.331429   0.027650  paid mods\n",
       "4671       0.289143   0.013825      valve\n",
       "438        0.212571   0.062673   bethesda\n",
       "2807       0.202286   0.114286        mod\n",
       "3273       0.184000   0.014747        pay\n",
       "4024       0.147429   0.321659     skyrim\n",
       "748        0.145143   0.074654  community"
      ]
     },
     "execution_count": 79,
     "metadata": {},
     "output_type": "execute_result"
    }
   ],
   "source": [
    "feat_lp = nb.feature_log_prob_\n",
    "recommend_p = np.exp(feat_lp[1])\n",
    "not_recommend_p = np.exp(feat_lp[0])\n",
    "feat_probs = pd.DataFrame({'Recommend':recommend_p, 'Not Recommend':not_recommend_p, 'feature':words_df.columns.values})\n",
    "feat_probs.sort_values('Not Recommend', ascending=False, inplace=True)\n",
    "feat_probs.head(10)"
   ]
  },
  {
   "cell_type": "code",
   "execution_count": 216,
   "metadata": {
    "collapsed": true
   },
   "outputs": [],
   "source": [
    "filepath = '../capstone/skyrimfeatures.pkl'\n",
    "pd.to_pickle(feat_probs.head(10), filepath)"
   ]
  },
  {
   "cell_type": "markdown",
   "metadata": {},
   "source": [
    "With the features list we can easily see a pattern of reviews that don't recommend the game talking about 'paid mods' this is directly related with the game creators, Bethesda, making modifications to their game under any circumstance an expense. This causes much controversy as there are many games on steam which allow users to modify the game for free, as well as use other user's created modifications for free.\n",
    "\n",
    "I believe this is no more than a knee-jerk reaction by the community in response to mods not being free anymore."
   ]
  },
  {
   "cell_type": "code",
   "execution_count": 80,
   "metadata": {
    "collapsed": true
   },
   "outputs": [],
   "source": [
    "custom_stopwords = list(stopwords.words('english'))\n",
    "gtawords = ['game', '10', 'play', 'valve', 'steam', 'like', 'grand', 'theft', 'auto', 'gta']\n",
    "stopword_list = custom_stopwords + skyrimwords"
   ]
  },
  {
   "cell_type": "code",
   "execution_count": 81,
   "metadata": {
    "collapsed": true
   },
   "outputs": [],
   "source": [
    "cv= CountVectorizer(stop_words=custom_stopwords, ngram_range=(1, 2), binary=True, max_features=5000)\n",
    "words = cv.fit_transform(gta_with_time_nonan_test.review)"
   ]
  },
  {
   "cell_type": "code",
   "execution_count": 82,
   "metadata": {
    "collapsed": true
   },
   "outputs": [],
   "source": [
    "words_df = pd.DataFrame(words.todense(), columns=cv.get_feature_names())"
   ]
  },
  {
   "cell_type": "code",
   "execution_count": 83,
   "metadata": {
    "collapsed": true
   },
   "outputs": [],
   "source": [
    "xtrain, xtest, ytrain, ytest = train_test_split(words_df.values, gta_with_time_nonan_test.rating.values, test_size=0.25)"
   ]
  },
  {
   "cell_type": "code",
   "execution_count": 84,
   "metadata": {
    "collapsed": false
   },
   "outputs": [
    {
     "data": {
      "text/plain": [
       "BernoulliNB(alpha=1.0, binarize=0.0, class_prior=None, fit_prior=True)"
      ]
     },
     "execution_count": 84,
     "metadata": {},
     "output_type": "execute_result"
    }
   ],
   "source": [
    "nb = BernoulliNB()\n",
    "\n",
    "nb.fit(xtrain, ytrain)"
   ]
  },
  {
   "cell_type": "code",
   "execution_count": 188,
   "metadata": {
    "collapsed": false
   },
   "outputs": [
    {
     "name": "stdout",
     "output_type": "stream",
     "text": [
      "[ 0.56581197  0.59316239  0.56581197  0.48888889  0.57777778]\n",
      "0.558290598291\n",
      "0.577777777778\n"
     ]
    }
   ],
   "source": [
    "nb_scores = cross_val_score(BernoulliNB(), xtrain, ytrain, cv=5)\n",
    "print nb_scores\n",
    "print np.mean(nb_scores)\n",
    "\n",
    "# Baseline\n",
    "print  1 - np.mean(ytrain)"
   ]
  },
  {
   "cell_type": "code",
   "execution_count": 90,
   "metadata": {
    "collapsed": false
   },
   "outputs": [
    {
     "data": {
      "text/html": [
       "<div>\n",
       "<table border=\"1\" class=\"dataframe\">\n",
       "  <thead>\n",
       "    <tr style=\"text-align: right;\">\n",
       "      <th></th>\n",
       "      <th>Not Recommend</th>\n",
       "      <th>Recommend</th>\n",
       "      <th>feature</th>\n",
       "    </tr>\n",
       "  </thead>\n",
       "  <tbody>\n",
       "    <tr>\n",
       "      <th>1590</th>\n",
       "      <td>0.666667</td>\n",
       "      <td>0.562715</td>\n",
       "      <td>game</td>\n",
       "    </tr>\n",
       "    <tr>\n",
       "      <th>3846</th>\n",
       "      <td>0.399038</td>\n",
       "      <td>0.128877</td>\n",
       "      <td>rockstar</td>\n",
       "    </tr>\n",
       "    <tr>\n",
       "      <th>3938</th>\n",
       "      <td>0.259615</td>\n",
       "      <td>0.017574</td>\n",
       "      <td>sale</td>\n",
       "    </tr>\n",
       "    <tr>\n",
       "      <th>3513</th>\n",
       "      <td>0.248397</td>\n",
       "      <td>0.023432</td>\n",
       "      <td>price</td>\n",
       "    </tr>\n",
       "    <tr>\n",
       "      <th>3277</th>\n",
       "      <td>0.240385</td>\n",
       "      <td>0.085803</td>\n",
       "      <td>people</td>\n",
       "    </tr>\n",
       "    <tr>\n",
       "      <th>2048</th>\n",
       "      <td>0.231571</td>\n",
       "      <td>0.232943</td>\n",
       "      <td>gta</td>\n",
       "    </tr>\n",
       "    <tr>\n",
       "      <th>3094</th>\n",
       "      <td>0.223558</td>\n",
       "      <td>0.199173</td>\n",
       "      <td>online</td>\n",
       "    </tr>\n",
       "    <tr>\n",
       "      <th>1851</th>\n",
       "      <td>0.219551</td>\n",
       "      <td>0.135768</td>\n",
       "      <td>get</td>\n",
       "    </tr>\n",
       "    <tr>\n",
       "      <th>2543</th>\n",
       "      <td>0.196314</td>\n",
       "      <td>0.139904</td>\n",
       "      <td>like</td>\n",
       "    </tr>\n",
       "    <tr>\n",
       "      <th>2898</th>\n",
       "      <td>0.188301</td>\n",
       "      <td>0.062715</td>\n",
       "      <td>money</td>\n",
       "    </tr>\n",
       "  </tbody>\n",
       "</table>\n",
       "</div>"
      ],
      "text/plain": [
       "      Not Recommend  Recommend   feature\n",
       "1590       0.666667   0.562715      game\n",
       "3846       0.399038   0.128877  rockstar\n",
       "3938       0.259615   0.017574      sale\n",
       "3513       0.248397   0.023432     price\n",
       "3277       0.240385   0.085803    people\n",
       "2048       0.231571   0.232943       gta\n",
       "3094       0.223558   0.199173    online\n",
       "1851       0.219551   0.135768       get\n",
       "2543       0.196314   0.139904      like\n",
       "2898       0.188301   0.062715     money"
      ]
     },
     "execution_count": 90,
     "metadata": {},
     "output_type": "execute_result"
    }
   ],
   "source": [
    "feat_lp = nb.feature_log_prob_\n",
    "recommend_p = np.exp(feat_lp[1])\n",
    "not_recommend_p = np.exp(feat_lp[0])\n",
    "feat_probs = pd.DataFrame({'Recommend':recommend_p, 'Not Recommend':not_recommend_p, 'feature':words_df.columns.values})\n",
    "feat_probs.sort_values('Not Recommend', ascending=False, inplace=True)\n",
    "feat_probs.head(10)"
   ]
  },
  {
   "cell_type": "code",
   "execution_count": null,
   "metadata": {
    "collapsed": true
   },
   "outputs": [],
   "source": []
  },
  {
   "cell_type": "markdown",
   "metadata": {},
   "source": [
    "Driven by the result of the last model, I was interested in why 'price' and 'sale' as features were more likely to apear in the reviews that don't recommend Grand Theft Auto,  as it turns out, when the game was released in April of 2015. This was right in the middle of a \"Steam Summer Sale\" in which players can buy all of the games they've kept their eye on at a cheaper price.\n",
    "\n",
    "Players thought they had found a discounted GTA5, however what they got was a marked up price, discounted, almost to the original price of the game, and even at that, it wasn't the game itself, but ingame points that were discounted."
   ]
  },
  {
   "cell_type": "markdown",
   "metadata": {},
   "source": [
    "# 7. Description of results"
   ]
  },
  {
   "cell_type": "markdown",
   "metadata": {
    "collapsed": true
   },
   "source": [
    "Under both games we can see a likelihood of words in reviews that dont recommend the game, that relate to decisions the videogame creators make. Perhaps the topics talked about in reviews pertain specifically to what surrounds the game and the community of the game at the time of the review being posted.\n",
    "\n",
    "In order to test this I will perform another Naive Bayes Classification on the DotA 2 reviews I have, predicting the specific times in which it's biggest tournament of the year, The International, is happening."
   ]
  },
  {
   "cell_type": "code",
   "execution_count": 92,
   "metadata": {
    "collapsed": false
   },
   "outputs": [
    {
     "name": "stderr",
     "output_type": "stream",
     "text": [
      "/home/dsi-student/anaconda2/envs/dsi/lib/python2.7/site-packages/ipykernel/__main__.py:7: SettingWithCopyWarning: \n",
      "A value is trying to be set on a copy of a slice from a DataFrame.\n",
      "Try using .loc[row_indexer,col_indexer] = value instead\n",
      "\n",
      "See the caveats in the documentation: http://pandas.pydata.org/pandas-docs/stable/indexing.html#indexing-view-versus-copy\n"
     ]
    }
   ],
   "source": [
    "dota_df['date_posted'] = pd.to_datetime(dota_df['date_posted'])\n",
    "# This is a subset of the original review data, so there are no exclusions due to the profile being unretrievable\n",
    "\n",
    "#03/09/2014 is two months before the prize pool for the international opened up, 09/21/2014 is two months after the international concluded.\n",
    "dota_international_2014_lr = dota_df[(dota_df['date_posted'] >= pd.to_datetime('03/09/2014')) & (dota_df['date_posted'] <= pd.to_datetime('09/21/2014'))]\n",
    "\n",
    "dota_international_2014_lr['tourneytime'] = dota_international_2014_lr['date_posted'].map(lambda x: 1 if (x >= pd.to_datetime('05/09/2014')) & (x <= pd.to_datetime('07/21/2014')) else 0)"
   ]
  },
  {
   "cell_type": "code",
   "execution_count": 229,
   "metadata": {
    "collapsed": true
   },
   "outputs": [],
   "source": [
    "custom_stopwords = list(stopwords.words('english'))\n",
    "common_stopwords = ['game', '10', 'play', 'valve', 'steam', 'like', 'dota', 'get', 'life']\n",
    "stopword_list = custom_stopwords + common_stopwords"
   ]
  },
  {
   "cell_type": "code",
   "execution_count": 230,
   "metadata": {
    "collapsed": true
   },
   "outputs": [],
   "source": [
    "cv_i = CountVectorizer(stop_words=stopword_list, ngram_range=(2, 2), binary=True, max_features=6000)\n",
    "words_i = cv_i.fit_transform(dota_international_2014_lr.review)\n",
    "international_words = pd.DataFrame(words_i.todense(), columns=cv_i.get_feature_names())"
   ]
  },
  {
   "cell_type": "code",
   "execution_count": 231,
   "metadata": {
    "collapsed": true
   },
   "outputs": [],
   "source": [
    "xtrain, xtest, ytrain, ytest = train_test_split(international_words.values, dota_international_2014_lr.tourneytime.values, test_size=0.25)"
   ]
  },
  {
   "cell_type": "code",
   "execution_count": 232,
   "metadata": {
    "collapsed": true
   },
   "outputs": [],
   "source": [
    "inb = BernoulliNB()"
   ]
  },
  {
   "cell_type": "code",
   "execution_count": 233,
   "metadata": {
    "collapsed": false
   },
   "outputs": [
    {
     "data": {
      "text/plain": [
       "BernoulliNB(alpha=1.0, binarize=0.0, class_prior=None, fit_prior=True)"
      ]
     },
     "execution_count": 233,
     "metadata": {},
     "output_type": "execute_result"
    }
   ],
   "source": [
    "inb.fit(xtrain, ytrain)"
   ]
  },
  {
   "cell_type": "code",
   "execution_count": 234,
   "metadata": {
    "collapsed": false
   },
   "outputs": [
    {
     "name": "stdout",
     "output_type": "stream",
     "text": [
      "[ 0.59183673  0.51020408  0.57142857  0.57142857  0.62244898  0.6122449\n",
      "  0.58163265  0.60824742  0.61458333  0.51041667]\n",
      "0.579447191248\n",
      "0.579145299145\n"
     ]
    }
   ],
   "source": [
    "nb_scores = cross_val_score(BernoulliNB(), xtest, ytest, cv=10)\n",
    "print nb_scores\n",
    "print np.mean(nb_scores)\n",
    "\n",
    "#Baseline\n",
    "print 1 - np.mean(ytrain)"
   ]
  },
  {
   "cell_type": "code",
   "execution_count": 235,
   "metadata": {
    "collapsed": false
   },
   "outputs": [
    {
     "name": "stdout",
     "output_type": "stream",
     "text": [
      "             precision    recall  f1-score   support\n",
      "\n",
      "          0       0.68      0.25      0.37       558\n",
      "          1       0.46      0.84      0.59       417\n",
      "\n",
      "avg / total       0.58      0.50      0.46       975\n",
      "\n"
     ]
    },
    {
     "data": {
      "text/html": [
       "<div>\n",
       "<table border=\"1\" class=\"dataframe\">\n",
       "  <thead>\n",
       "    <tr style=\"text-align: right;\">\n",
       "      <th></th>\n",
       "      <th>predicted is not tourneytime</th>\n",
       "      <th>predicted is tourneytime</th>\n",
       "    </tr>\n",
       "  </thead>\n",
       "  <tbody>\n",
       "    <tr>\n",
       "      <th>is not tourneytime</th>\n",
       "      <td>142</td>\n",
       "      <td>416</td>\n",
       "    </tr>\n",
       "    <tr>\n",
       "      <th>is tourneytime</th>\n",
       "      <td>67</td>\n",
       "      <td>350</td>\n",
       "    </tr>\n",
       "  </tbody>\n",
       "</table>\n",
       "</div>"
      ],
      "text/plain": [
       "                    predicted is not tourneytime  predicted is tourneytime\n",
       "is not tourneytime                           142                       416\n",
       "is tourneytime                                67                       350"
      ]
     },
     "execution_count": 235,
     "metadata": {},
     "output_type": "execute_result"
    }
   ],
   "source": [
    "predictions = inb.predict(xtest)\n",
    "print classification_report(ytest, predictions)\n",
    "confmat = confusion_matrix(y_true=ytest, y_pred=inb.predict(xtest))\n",
    "\n",
    "confusion = pd.DataFrame(confmat, index=['is not tourneytime', 'is tourneytime'],\n",
    "                         columns=['predicted is not tourneytime','predicted is tourneytime'])\n",
    "\n",
    "confusion"
   ]
  },
  {
   "cell_type": "code",
   "execution_count": 236,
   "metadata": {
    "collapsed": false
   },
   "outputs": [],
   "source": [
    "fpr = dict()\n",
    "tpr = dict()\n",
    "\n",
    "fpr[1], tpr[1], thresh = roc_curve(ytrain, inb.predict_proba(xtrain)[:,1])\n",
    "fpr[2], tpr[2], thresh = roc_curve(ytest, inb.predict_proba(xtest)[:,1])"
   ]
  },
  {
   "cell_type": "code",
   "execution_count": 237,
   "metadata": {
    "collapsed": false
   },
   "outputs": [
    {
     "data": {
      "image/png": "[encoded data removed]",
      "text/plain": [
       "<matplotlib.figure.Figure at 0x7fd66702e550>"
      ]
     },
     "metadata": {},
     "output_type": "display_data"
    }
   ],
   "source": [
    "fig, ax = plt.subplots(1, 1, figsize=(10,10))\n",
    "\n",
    "roc_auc = auc(fpr[1], tpr[1])\n",
    "ax = plt.plot(fpr[1], tpr[1], lw=2,\n",
    "             label='AUC '+'{0:.2f}'.format(roc_auc))\n",
    "\n",
    "\n",
    "\n",
    "\n",
    "roc_auc_2 = auc(fpr[2], tpr[2])\n",
    "ax = plt.plot(fpr[2], tpr[2], lw=3, color='cyan',\n",
    "              label='AUC '+'{0:.2f}'.format(roc_auc_2))\n",
    "\n",
    "        \n",
    "# 50 / 50 line\n",
    "ax = plt.plot([0, 1], [0, 1], 'k--', linewidth=2)\n",
    "plt.xlim([0.0, 1.0])\n",
    "plt.ylim([0.0, 1.05])\n",
    "plt.xlabel('Specificity (FPR)', fontsize=18)\n",
    "plt.ylabel('Sensitivity (TPR)', fontsize=18)\n",
    "plt.title('Receiver Operating Characteristic\\n', fontsize=18)\n",
    "plt.legend(loc=\"lower right\")\n",
    "plt.show()"
   ]
  },
  {
   "cell_type": "markdown",
   "metadata": {},
   "source": [
    "## 8. Conclusions about event-specific reviews"
   ]
  },
  {
   "cell_type": "markdown",
   "metadata": {
    "collapsed": true
   },
   "source": [
    "More often than not, performing worse than the baseline, this model shows there is not a clear distinction between reviews that happen before, after, and during festivities surounding a videogame and it's community.\n",
    "\n",
    "The results from the previous Naive Bayes model show what I believe is summed up as buyer's remorse. Very similar to when you go to a restaraunt, get bad service, then effectively write a yelp review of that service, updating the stature of that restaraunt accordingly, these players felt neglected in some way and thus posted reviews to update Bethesda's or Rockstar Games' stature. \n",
    "\n",
    "I definetly believe there are more conclusions to be made about how a video game company's behavior in the public eye can effect it's reviews both on the side of topics and nature of those topics, and on the side of sentiment. However change in sentiment is not related to the change in hours a reviewer has played the videogame they reviewed."
   ]
  },
  {
   "cell_type": "code",
   "execution_count": null,
   "metadata": {
    "collapsed": true
   },
   "outputs": [],
   "source": []
  }
 ],
 "metadata": {
  "kernelspec": {
   "display_name": "Python [dsi]",
   "language": "python",
   "name": "Python [dsi]"
  },
  "language_info": {
   "codemirror_mode": {
    "name": "ipython",
    "version": 2
   },
   "file_extension": ".py",
   "mimetype": "text/x-python",
   "name": "python",
   "nbconvert_exporter": "python",
   "pygments_lexer": "ipython2",
   "version": "2.7.12"
  }
 },
 "nbformat": 4,
 "nbformat_minor": 0
}

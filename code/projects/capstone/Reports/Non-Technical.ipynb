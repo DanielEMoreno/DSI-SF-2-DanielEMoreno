{
 "cells": [
  {
   "cell_type": "markdown",
   "metadata": {},
   "source": [
    "# Non-Technical Report\n"
   ]
  },
  {
   "cell_type": "markdown",
   "metadata": {},
   "source": [
    "### Sentiment and Success"
   ]
  },
  {
   "cell_type": "markdown",
   "metadata": {},
   "source": [
    "Steam, being one of the largest platforms of which games are sold on, creates a lot of revenue each year just from game sales. The reviews of a videogame very indirectly effect it's overall success. With more poblissity surrounding the videogame based on the overall summation of it's reviews and how users are reacting to the gameplay experience it definetly has an effect on how many people see the videogame and make a judgement as to whether or not they want to buy the videogame, based on those reviews.\n",
    "\n",
    "A lot of things affect reviews, not only the game itself and the experience the reviewer has but also whether or not the review is that of a franchaise or series, then otherr factors come in to play on how the user rates the game as they could be taking prevoius experience into account on other videogames that the developer has produced."
   ]
  },
  {
   "cell_type": "markdown",
   "metadata": {},
   "source": [
    "Predicting this success from features in the reviews would be helpful not only to investors thinking of helping independent developers expand their horizons, but also for the developers themselves in determining where they need to make improvements as there are multiple forms of analysis that can be performed on reviews that indicate different things on how the reviewer is recieving or had recieved the game up till posting the review."
   ]
  },
  {
   "cell_type": "markdown",
   "metadata": {},
   "source": [
    "<img src='Plots/review_counts.png'>\n",
    "\n",
    "\n",
    "This graph depicts the counts of reviews for each game, the games are denoted by their specific game ID in the steam program.\n",
    "\n"
   ]
  },
  {
   "cell_type": "markdown",
   "metadata": {},
   "source": [
    "Given the problem and only steam review data, defining a metric of success was not an easy task. With columns encompassing multiple different metrics about the review itself, it is only a representation of the reviewer's attitude toward the videogame at that point in time. To create a metric of success given the data I take the amount of hours the user has played thus far (as of 9/24/216) compared to the time they played the game when the reviewer posted their review, it potentially could provide for a relationship between the valence of the review and the amount of time they play the videogame following the review. The game being reviewed could change the overall opinion of the videogame drastically as we will see later in this report."
   ]
  },
  {
   "cell_type": "markdown",
   "metadata": {},
   "source": [
    "Before cleaning the data, the task of cleaning the data was clearly defined as I had a column of potential user profile ID numbers of which I can feed into the steam web API in order to retrieve the amount of hours the user has played. However some items in the dataset were not the actual user ID, some were the user alias. To combat this I use a third party class to retrieve the user ID from the link provided. \n",
    "\n",
    "The only data cleaning that was actually required was conversion of the timestamp column that indicated when the user had posted the review, and when I had to convert the time I fetched for each reviewer; when I fetched the time played it was in minutes. I hadn't yet decided whether or not I was going to use timeseries analysis, just to be safe, the column was converted to interperatable pandas date-time objects. "
   ]
  },
  {
   "cell_type": "markdown",
   "metadata": {},
   "source": [
    "There was also a very noticable problem with the distribution of classes I had available. For the case of linear regression it wouldn't be an issue as the sentiment rating isn't based on whether or not the review recommends the game or not. \n",
    "\n",
    "<img src='Plots/class_imbalence.png'>"
   ]
  },
  {
   "cell_type": "markdown",
   "metadata": {},
   "source": [
    "When coming to a decision on a model to use for depicting a linear relationship it was clear to me that the quickest, and easiest model to use was a Linear Regression. It would be able to tell me right away whether or not there was a relationship between my predictor and the target.\n",
    "\n",
    "To define the valence of my reviews I use the textblob sentiment function. This is subjective, as is any sentiment rating, it is even more subjective however because I am not able to  define sentiment of words due to my class imbalence, and the different words and phrases passed around between  the different commmunities of the games\n"
   ]
  },
  {
   "cell_type": "markdown",
   "metadata": {},
   "source": [
    " <img src='Plots/regplot_regression.png'>"
   ]
  },
  {
   "cell_type": "markdown",
   "metadata": {},
   "source": [
    "For all the datasets observed, the regression line is pretty identical to the one above, resulting in an r^2 value between -0.00~ and 0.00~, both showing little to no relationship between the features what-so-ever. However this is very open to interpretation as the Textblob sentiment definition may rate the sentiment incorrectly due to the different language used by the communities of the videogame. It is clear in the regplot that there are users on both ends of the spectrum: both with negative scores of valence and enormous amounts of difference in hours played, and with positive scores but miniscule amounts of difference in time played."
   ]
  },
  {
   "cell_type": "markdown",
   "metadata": {},
   "source": [
    "### Event Specific Reviews"
   ]
  },
  {
   "cell_type": "markdown",
   "metadata": {},
   "source": [
    "After ruling out the relationship between sentiment and the amount of additional  hours a reviewer has played the game they reviewed, there must be a better reason for why there is such an imbalence of classes. Investigating this with a Naive Bayes classifier pretty much a perfect fit. The classifier is fast to use, only requiring one pass over the data. In some cases it is unbeneficial to use Naive Bayes as it assumes independance of all observations. This is not an issue when it comes to classifying the video  game reviews as they are independent of one another -- It seems highly unlikely that someone would post a review solely because of another person's review, there is definetly influence however that comes from the reviewer reading other reviews."
   ]
  },
  {
   "cell_type": "markdown",
   "metadata": {},
   "source": [
    "\n",
    "The following is a set of features and their likelihoods of appearing in a review that recommends the game, and that doesn't recommend the game for Skyrim\n",
    "\n",
    "| Not Recommend   |      Recommend      |  Feature |\n",
    "|----------|:-------------:|------:|\n",
    "| 0.697143 |  0.252535 | mods |\n",
    "| 0.486857 |    0.621198   |   game |\n",
    "| 0.425143 | 0.035023 |    paid |\n",
    "| 0.331429 | 0.027650 | paid mods |\n",
    "| 0.289143 | 0.013825 | valve |\n",
    "| 0.212571 | 0.062673 | bethesda |\n",
    "| 0.202286 | 0.114286 | mod |\n",
    "| 0.184000 | 0.014747 | pay |\n",
    "| 0.147429 | 0.321659 | skyrim |\n",
    "| 0.145143 | 0.074654 | community |"
   ]
  },
  {
   "cell_type": "markdown",
   "metadata": {},
   "source": [
    "From observing the liklihoods we can see more clear distinctions like the likelihood of 'mods' appearing in reviews that don't recommend the game versus how likely it is to appear in the latter, also weith features 'paid mods', 'paid' and 'pay' also with a higher likelihood of being in reviews not recommending the game.\n",
    "\n",
    "After seeing this it was necessary to do more exterior research about Skyrim and it's situation with mods.\n",
    "\n",
    "\n",
    "\"Just a few days after launching paid mods on Steam through the Skyrim Workshop, Valve is removing the payment option, citing customer feedback. Valve says it will refund Steam users who purchased a Skyrim mod on Steam\" (Michael McWhertor - Polygon)\n",
    "\n",
    "With initiating paid mods on steam, for Skyrim specifically, it's home in the Steam store was ravaged by a bunch of angry consumers who had bought the game pervoiusly and felt entitled to modifying their game, at no expense."
   ]
  },
  {
   "cell_type": "markdown",
   "metadata": {},
   "source": [
    "| Not Recommend   |      Recommend      |  Feature |\n",
    "|----------|:-------------:|------:|\n",
    "| 0.666667 |  0.562715 | game |\n",
    "| 0.399038 |    0.128877   |   rockstar |\n",
    "| 0.259615 | 0.017574 |    sale |\n",
    "| 0.248397 | 0.023432 | price |\n",
    "| 0.240385 | 0.085803 | people |\n",
    "| 0.231571 | 0.232943 | gta |\n",
    "| 0.223558 | 0.199173 | online |\n",
    "| 0.219551 | 0.135768 | get |\n",
    "| 0.196314 | 0.139904 | like |\n",
    "| 0.188301 | 0.062715 | money |"
   ]
  },
  {
   "cell_type": "markdown",
   "metadata": {},
   "source": [
    "Again, with the set of Grand Theft Auto reviews we see terms that have similarities appearing within one class of review: In not recommended there is 'sale', 'price', and at the bottom of the list, 'money'. Having seen the results of the previous game I was certain  I would find something relating to this game and why people who don't recommend the game talk frequently about the price, a sale, and money.\n",
    "\n",
    "\"At a glance, it looked like the price of the game had been jacked up and then discounted by 25%, making it just shy of the regular price. But clicking on the deal revealed something even more silly. GTA V had actually been removed from the store, and replaced with a bundle that included some of GTA Online’s in-game currency, and that’s what had been discounted. \" - (Fraser Brown PCGamesN)\n",
    "\n",
    "We see the same fasion of reviews, the company made a mistake and the community responded to that mistake through writing buyer's-remorse reviews."
   ]
  },
  {
   "cell_type": "markdown",
   "metadata": {},
   "source": [
    "To further assess these 'event specific' reviews, I thought it would be intersting to try and classify differences between the reviews surrounding DotA's yearly tournament, The International\n",
    "\n",
    "It is a tournament that happens usually during the summer each year which has an enormous prize pool, contributed to by the players themselves through monetized purchases they make ingame.\n",
    "\n",
    "To do this, with the data given, I was only able to create a relevant model of one of the tournaments. This opened my horizon of data to the reviews I did not use previously to predict the amount of hours a user played related to the sentiment of their review. "
   ]
  },
  {
   "cell_type": "markdown",
   "metadata": {},
   "source": [
    " <img src='Plots/roc.png'>"
   ]
  },
  {
   "cell_type": "markdown",
   "metadata": {},
   "source": [
    "This ROC curve shows the TPR (True positive rate) on the Y axis, and the FPR (False Positive Rate) on the X axis. The AUC is more or less a measure of how good the model is, however it is not completely conclusive on how good the model is, this only measures the rates of true positives and false positives, not also encompasing true negatives and false negatives. This is only relevant depending on the problem at hand.\n",
    "\n",
    "In my Naive Bayes model, predicting whether or not a review happened around the time of The International pretty much never performed better than if I were to have seen each review myself, and at my own judgement, more or less at random, chosen that it had been during the event.\n",
    "\n"
   ]
  },
  {
   "cell_type": "markdown",
   "metadata": {},
   "source": [
    "In Summation, using the sentiment of a review isn't very useful in determining how much more a user will play a game. Perhaps if there was a deeper rating that was numerical, not black and white, there would be a better representation of how much a reviewer actually liked the videogame.\n",
    "\n",
    "As for event specific reviews, it seems as though people are more inclined to review videogames when something happens within the community that they don't like."
   ]
  },
  {
   "cell_type": "markdown",
   "metadata": {},
   "source": [
    "Citations:\n",
    "\n",
    "http://www.pcgamesn.com/grand-theft-auto-v/gta-vs-confusing-summer-sale-gets-valve-a-slap-on-the-wrist-from-the-advertising-standards-authority - Fraser Brown\n",
    "\n",
    "http://www.polygon.com/2015/4/27/8505883/valve-removing-paid-mods-from-steam - Michael McWhertor"
   ]
  },
  {
   "cell_type": "code",
   "execution_count": null,
   "metadata": {
    "collapsed": true
   },
   "outputs": [],
   "source": []
  }
 ],
 "metadata": {
  "kernelspec": {
   "display_name": "Python [dsi]",
   "language": "python",
   "name": "Python [dsi]"
  },
  "language_info": {
   "codemirror_mode": {
    "name": "ipython",
    "version": 2
   },
   "file_extension": ".py",
   "mimetype": "text/x-python",
   "name": "python",
   "nbconvert_exporter": "python",
   "pygments_lexer": "ipython2",
   "version": "2.7.12"
  }
 },
 "nbformat": 4,
 "nbformat_minor": 0
}

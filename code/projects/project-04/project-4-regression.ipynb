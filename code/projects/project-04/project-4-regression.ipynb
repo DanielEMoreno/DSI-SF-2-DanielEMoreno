{
 "cells": [
  {
   "cell_type": "markdown",
   "metadata": {},
   "source": [
    "<img src=\"http://imgur.com/1ZcRyrc.png\" style=\"float: left; margin: 15px; height: 80px\">\n",
    "\n",
    "# Project 4\n",
    "\n",
    "## San Francisco Data\n",
    "\n",
    "---\n",
    "\n",
    "[San Francisco provides a wealth of data on the city to the public.](https://data.sfgov.org/) Project 4 is all about exploring this data and modeling interesting relationships with regression.\n",
    "\n",
    "Project 4 is also much more open-ended than the previous projects. You are more responsible for finding things about the data that interest you, coming up with your own hypothesis about it, and reporting on the analysis you carry out. That being said, there are still specific requirements and restrictions on the type of models you will be constructing.\n",
    "\n",
    "---\n",
    "\n",
    "## Notes on the data\n",
    "\n",
    "We have gone through the above website and pulled out a variety of different datasets that we think are particularly interesting. Some of the datasets are from external sources as well, but all are related to San Francisco. A high level overview of data folders is provided after the project requirements section.\n",
    "\n",
    "**There is a lot of different data. You are _NOT_ expected to explore all of it or include all of it in analyses.** The point of the project is to focus on aspects of San Francisco that are particularly interesting to you from a modeling point of view. \n",
    "\n",
    "**The uncompressed data is a large filesize.** Even the compressed data is pretty large. The data is compressed into a .7z format which has one of the smallest filesizes available. You will likely need a 3rd party app to extract it. \n",
    "\n",
    "### Recommended Utilities for .7z\n",
    "- For OSX [Keka](http://www.kekaosx.com/en/) or [The Unarchiver](http://wakaba.c3.cx/s/apps/unarchiver.html). \n",
    "- For Windows [7-zip](http://www.7-zip.org/) is the standard. \n",
    "- For Linux try the `p7zip` utility.  `sudo apt-get install p7zip`.\n",
    "\n",
    "---\n",
    "\n",
    "## Project requirements\n",
    "\n",
    "**You will be performing 4 different sections of analysis on the San Francisco data.**\n",
    "\n",
    "**Models must be regression. This means that your target variable needs to be numeric/continuous**\n",
    "\n",
    "Do not perform classification models – this will be the topic of week 4.\n"
   ]
  },
  {
   "cell_type": "markdown",
   "metadata": {},
   "source": [
    "<img src=\"http://imgur.com/l5NasQj.png\" style=\"float: left; margin: 25px 15px 0px 0px; height: 25px\">\n",
    "\n",
    "### 1. Choose a dataset or datasets of interest to you and perform EDA\n",
    "\n",
    "---\n",
    "\n",
    "1. Explain what the data is. This may include multiple csv files. Some of this data has hard to understand codes representing the variables. Nearly all data is pulled from https://data.sfgov.org/ so this is a very good resource for determining what the data is.\n",
    "- Clean the data.\n",
    "- Develop and state clearly a hypothesis about the data that you would want to test.\n",
    "- Create some initial visualizations on the portions of the data relevant to your hypothesis."
   ]
  },
  {
   "cell_type": "code",
   "execution_count": 1,
   "metadata": {
    "collapsed": false
   },
   "outputs": [],
   "source": [
    "import pandas as pd\n",
    "import numpy as np\n",
    "import matplotlib.pyplot as plt\n",
    "import sklearn as sm\n",
    "import seaborn as sns\n",
    "%matplotlib inline"
   ]
  },
  {
   "cell_type": "code",
   "execution_count": 2,
   "metadata": {
    "collapsed": true
   },
   "outputs": [],
   "source": [
    "data_info = '../../../../dsi-sf-2/datasets/san_francisco/san_francisco/parks/park_info.csv'\n",
    "data_donations = '../../../../dsi-sf-2/datasets/san_francisco/san_francisco/parks/park_donations.csv'\n",
    "data_scores = '../../../../dsi-sf-2/datasets/san_francisco/san_francisco/parks/park_scores.csv'"
   ]
  },
  {
   "cell_type": "code",
   "execution_count": 3,
   "metadata": {
    "collapsed": false
   },
   "outputs": [],
   "source": [
    "info = pd.read_csv(data_info)\n",
    "donations = pd.read_csv(data_donations)\n",
    "scores = pd.read_csv(data_scores)\n",
    "\n",
    "info_df = pd.DataFrame(info)\n",
    "donations_df = pd.DataFrame(donations)\n",
    "scores_df = pd.DataFrame(scores)"
   ]
  },
  {
   "cell_type": "code",
   "execution_count": 5,
   "metadata": {
    "collapsed": false
   },
   "outputs": [
    {
     "data": {
      "text/html": [
       "<div>\n",
       "<table border=\"1\" class=\"dataframe\">\n",
       "  <thead>\n",
       "    <tr style=\"text-align: right;\">\n",
       "      <th></th>\n",
       "      <th>ParkID</th>\n",
       "      <th>PSA</th>\n",
       "      <th>Park</th>\n",
       "      <th>FQ</th>\n",
       "      <th>Score</th>\n",
       "    </tr>\n",
       "  </thead>\n",
       "  <tbody>\n",
       "    <tr>\n",
       "      <th>0</th>\n",
       "      <td>86</td>\n",
       "      <td>PSA4</td>\n",
       "      <td>Carl Larsen Park</td>\n",
       "      <td>FY05Q3</td>\n",
       "      <td>0.795</td>\n",
       "    </tr>\n",
       "    <tr>\n",
       "      <th>1</th>\n",
       "      <td>13</td>\n",
       "      <td>PSA4</td>\n",
       "      <td>Junipero Serra Playground</td>\n",
       "      <td>FY05Q3</td>\n",
       "      <td>0.957</td>\n",
       "    </tr>\n",
       "    <tr>\n",
       "      <th>2</th>\n",
       "      <td>9</td>\n",
       "      <td>PSA4</td>\n",
       "      <td>Rolph Nicol Playground</td>\n",
       "      <td>FY05Q3</td>\n",
       "      <td>0.864</td>\n",
       "    </tr>\n",
       "    <tr>\n",
       "      <th>3</th>\n",
       "      <td>117</td>\n",
       "      <td>PSA2</td>\n",
       "      <td>Alamo Square</td>\n",
       "      <td>FY05Q4</td>\n",
       "      <td>0.857</td>\n",
       "    </tr>\n",
       "    <tr>\n",
       "      <th>4</th>\n",
       "      <td>60</td>\n",
       "      <td>PSA6</td>\n",
       "      <td>Jose Coronado Playground</td>\n",
       "      <td>FY05Q4</td>\n",
       "      <td>0.859</td>\n",
       "    </tr>\n",
       "  </tbody>\n",
       "</table>\n",
       "</div>"
      ],
      "text/plain": [
       "   ParkID   PSA                       Park      FQ  Score\n",
       "0      86  PSA4           Carl Larsen Park  FY05Q3  0.795\n",
       "1      13  PSA4  Junipero Serra Playground  FY05Q3  0.957\n",
       "2       9  PSA4     Rolph Nicol Playground  FY05Q3  0.864\n",
       "3     117  PSA2               Alamo Square  FY05Q4  0.857\n",
       "4      60  PSA6   Jose Coronado Playground  FY05Q4  0.859"
      ]
     },
     "execution_count": 5,
     "metadata": {},
     "output_type": "execute_result"
    }
   ],
   "source": [
    "scores_df.sort_values(by='ParkID')\n",
    "scores_df.head()"
   ]
  },
  {
   "cell_type": "code",
   "execution_count": 6,
   "metadata": {
    "collapsed": false
   },
   "outputs": [
    {
     "data": {
      "text/html": [
       "<div>\n",
       "<table border=\"1\" class=\"dataframe\">\n",
       "  <thead>\n",
       "    <tr style=\"text-align: right;\">\n",
       "      <th></th>\n",
       "      <th>Close Date</th>\n",
       "      <th>Account Name</th>\n",
       "      <th>Description</th>\n",
       "      <th>Amount</th>\n",
       "      <th>Type</th>\n",
       "    </tr>\n",
       "  </thead>\n",
       "  <tbody>\n",
       "    <tr>\n",
       "      <th>0</th>\n",
       "      <td>07/08/2014 12:00:00 AM</td>\n",
       "      <td>Glen Park Association</td>\n",
       "      <td>To support botanical signs at the Sunnyside Co...</td>\n",
       "      <td>$500.00</td>\n",
       "      <td>Cash</td>\n",
       "    </tr>\n",
       "    <tr>\n",
       "      <th>1</th>\n",
       "      <td>07/09/2014 12:00:00 AM</td>\n",
       "      <td>USTA NorCAL</td>\n",
       "      <td>To support HITS tennis programming and provide...</td>\n",
       "      <td>$2050.00</td>\n",
       "      <td>Cash</td>\n",
       "    </tr>\n",
       "    <tr>\n",
       "      <th>2</th>\n",
       "      <td>08/21/2014 12:00:00 AM</td>\n",
       "      <td>Walter S. Johnson Foundation</td>\n",
       "      <td>To support grounds maintenance at the Walter S...</td>\n",
       "      <td>$5000.00</td>\n",
       "      <td>Cash</td>\n",
       "    </tr>\n",
       "    <tr>\n",
       "      <th>3</th>\n",
       "      <td>09/04/2014 12:00:00 AM</td>\n",
       "      <td>Kaiser Permanente</td>\n",
       "      <td>To support the Golden Gate Park Senior Center ...</td>\n",
       "      <td>$1000.00</td>\n",
       "      <td>Cash</td>\n",
       "    </tr>\n",
       "    <tr>\n",
       "      <th>4</th>\n",
       "      <td>09/08/2014 12:00:00 AM</td>\n",
       "      <td>San Francisco Parks Alliance (SFPA)</td>\n",
       "      <td>To support landscape improvements to Kezar Tri...</td>\n",
       "      <td>$1732.08</td>\n",
       "      <td>Cash</td>\n",
       "    </tr>\n",
       "  </tbody>\n",
       "</table>\n",
       "</div>"
      ],
      "text/plain": [
       "               Close Date                         Account Name  \\\n",
       "0  07/08/2014 12:00:00 AM                Glen Park Association   \n",
       "1  07/09/2014 12:00:00 AM                          USTA NorCAL   \n",
       "2  08/21/2014 12:00:00 AM         Walter S. Johnson Foundation   \n",
       "3  09/04/2014 12:00:00 AM                    Kaiser Permanente   \n",
       "4  09/08/2014 12:00:00 AM  San Francisco Parks Alliance (SFPA)   \n",
       "\n",
       "                                         Description    Amount  Type  \n",
       "0  To support botanical signs at the Sunnyside Co...   $500.00  Cash  \n",
       "1  To support HITS tennis programming and provide...  $2050.00  Cash  \n",
       "2  To support grounds maintenance at the Walter S...  $5000.00  Cash  \n",
       "3  To support the Golden Gate Park Senior Center ...  $1000.00  Cash  \n",
       "4  To support landscape improvements to Kezar Tri...  $1732.08  Cash  "
      ]
     },
     "execution_count": 6,
     "metadata": {},
     "output_type": "execute_result"
    }
   ],
   "source": [
    "donations_df.head()"
   ]
  },
  {
   "cell_type": "code",
   "execution_count": 7,
   "metadata": {
    "collapsed": false
   },
   "outputs": [
    {
     "data": {
      "text/html": [
       "<div>\n",
       "<table border=\"1\" class=\"dataframe\">\n",
       "  <thead>\n",
       "    <tr style=\"text-align: right;\">\n",
       "      <th></th>\n",
       "      <th>ParkName</th>\n",
       "      <th>ParkType</th>\n",
       "      <th>ParkServiceArea</th>\n",
       "      <th>PSAManager</th>\n",
       "      <th>email</th>\n",
       "      <th>Number</th>\n",
       "      <th>Zipcode</th>\n",
       "      <th>Acreage</th>\n",
       "      <th>SupDist</th>\n",
       "      <th>ParkID</th>\n",
       "      <th>Location 1</th>\n",
       "      <th>Lat</th>\n",
       "    </tr>\n",
       "  </thead>\n",
       "  <tbody>\n",
       "    <tr>\n",
       "      <th>1</th>\n",
       "      <td>10TH AVE/CLEMENT MINI PARK</td>\n",
       "      <td>Mini Park</td>\n",
       "      <td>PSA 1</td>\n",
       "      <td>Elder, Steve</td>\n",
       "      <td>steven.elder@sfgov.org</td>\n",
       "      <td>(415) 601-6501</td>\n",
       "      <td>94118.0</td>\n",
       "      <td>0.66</td>\n",
       "      <td>1.0</td>\n",
       "      <td>156.0</td>\n",
       "      <td>351 9th Ave\\nSan Francisco, CA\\n(37.78184397, ...</td>\n",
       "      <td>NaN</td>\n",
       "    </tr>\n",
       "    <tr>\n",
       "      <th>2</th>\n",
       "      <td>15TH AVENUE STEPS</td>\n",
       "      <td>Mini Park</td>\n",
       "      <td>PSA 4</td>\n",
       "      <td>Sheehy, Chuck</td>\n",
       "      <td>charles.sheehy@sfgov.org</td>\n",
       "      <td>(415) 218-2226</td>\n",
       "      <td>94122.0</td>\n",
       "      <td>0.26</td>\n",
       "      <td>7.0</td>\n",
       "      <td>185.0</td>\n",
       "      <td>15th Ave b w Kirkham\\nSan Francisco, CA\\n(37.7...</td>\n",
       "      <td>NaN</td>\n",
       "    </tr>\n",
       "    <tr>\n",
       "      <th>3</th>\n",
       "      <td>24TH/YORK MINI PARK</td>\n",
       "      <td>Mini Park</td>\n",
       "      <td>PSA 6</td>\n",
       "      <td>Field, Adrian</td>\n",
       "      <td>adrian.field@sfgov.org</td>\n",
       "      <td>(415) 717-2872</td>\n",
       "      <td>94110.0</td>\n",
       "      <td>0.12</td>\n",
       "      <td>9.0</td>\n",
       "      <td>51.0</td>\n",
       "      <td>24th\\nSan Francisco, CA\\n(37.75306042, -122.40...</td>\n",
       "      <td>NaN</td>\n",
       "    </tr>\n",
       "    <tr>\n",
       "      <th>4</th>\n",
       "      <td>29TH/DIAMOND OPEN SPACE</td>\n",
       "      <td>Neighborhood Park or Playground</td>\n",
       "      <td>PSA 5</td>\n",
       "      <td>O'Brien, Teresa</td>\n",
       "      <td>teresa.o'brien@sfgov.org</td>\n",
       "      <td>(415) 819-2699</td>\n",
       "      <td>94131.0</td>\n",
       "      <td>0.82</td>\n",
       "      <td>8.0</td>\n",
       "      <td>194.0</td>\n",
       "      <td>Diamond\\nSan Francisco, CA\\n(37.74360211, -122...</td>\n",
       "      <td>NaN</td>\n",
       "    </tr>\n",
       "    <tr>\n",
       "      <th>5</th>\n",
       "      <td>ADAM ROGERS PARK</td>\n",
       "      <td>Neighborhood Park or Playground</td>\n",
       "      <td>PSA 3</td>\n",
       "      <td>Watkins, Robert</td>\n",
       "      <td>robert.watkins@sfgov.org</td>\n",
       "      <td>(415) 819-6138</td>\n",
       "      <td>94124.0</td>\n",
       "      <td>2.74</td>\n",
       "      <td>10.0</td>\n",
       "      <td>46.0</td>\n",
       "      <td>Ingalls\\nSan Francisco, CA\\n(37.73101645, -122...</td>\n",
       "      <td>NaN</td>\n",
       "    </tr>\n",
       "  </tbody>\n",
       "</table>\n",
       "</div>"
      ],
      "text/plain": [
       "                     ParkName                         ParkType  \\\n",
       "1  10TH AVE/CLEMENT MINI PARK                        Mini Park   \n",
       "2           15TH AVENUE STEPS                        Mini Park   \n",
       "3         24TH/YORK MINI PARK                        Mini Park   \n",
       "4     29TH/DIAMOND OPEN SPACE  Neighborhood Park or Playground   \n",
       "5            ADAM ROGERS PARK  Neighborhood Park or Playground   \n",
       "\n",
       "  ParkServiceArea       PSAManager                     email          Number  \\\n",
       "1           PSA 1     Elder, Steve    steven.elder@sfgov.org  (415) 601-6501   \n",
       "2           PSA 4    Sheehy, Chuck  charles.sheehy@sfgov.org  (415) 218-2226   \n",
       "3           PSA 6    Field, Adrian    adrian.field@sfgov.org  (415) 717-2872   \n",
       "4           PSA 5  O'Brien, Teresa  teresa.o'brien@sfgov.org  (415) 819-2699   \n",
       "5           PSA 3  Watkins, Robert  robert.watkins@sfgov.org  (415) 819-6138   \n",
       "\n",
       "   Zipcode  Acreage  SupDist  ParkID  \\\n",
       "1  94118.0     0.66      1.0   156.0   \n",
       "2  94122.0     0.26      7.0   185.0   \n",
       "3  94110.0     0.12      9.0    51.0   \n",
       "4  94131.0     0.82      8.0   194.0   \n",
       "5  94124.0     2.74     10.0    46.0   \n",
       "\n",
       "                                          Location 1  Lat  \n",
       "1  351 9th Ave\\nSan Francisco, CA\\n(37.78184397, ...  NaN  \n",
       "2  15th Ave b w Kirkham\\nSan Francisco, CA\\n(37.7...  NaN  \n",
       "3  24th\\nSan Francisco, CA\\n(37.75306042, -122.40...  NaN  \n",
       "4  Diamond\\nSan Francisco, CA\\n(37.74360211, -122...  NaN  \n",
       "5  Ingalls\\nSan Francisco, CA\\n(37.73101645, -122...  NaN  "
      ]
     },
     "execution_count": 7,
     "metadata": {},
     "output_type": "execute_result"
    }
   ],
   "source": [
    "\n",
    "info_df.drop(info_df.index[[0]], inplace=True)\n",
    "info_df.head()"
   ]
  },
  {
   "cell_type": "code",
   "execution_count": 8,
   "metadata": {
    "collapsed": true
   },
   "outputs": [],
   "source": [
    "def return_park_type(x):\n",
    "    if x == 'Mini Park':\n",
    "        return 1\n",
    "    elif x=='Neighborhood Park or Playground':\n",
    "        return 2\n",
    "    elif x=='Community Garden':\n",
    "        return 3\n",
    "    elif x=='Regional Park':\n",
    "        return 4\n",
    "    elif x=='Family Camp':\n",
    "        return 5\n",
    "    elif x=='Concession':\n",
    "        return 6\n",
    "    elif x=='Civic Plaza or Square':\n",
    "        return 7\n",
    "    elif x== 'Parkway':\n",
    "        return 8\n",
    "    elif x=='Zoological Garden':\n",
    "        return 9\n",
    "    else:\n",
    "        return 0\n",
    "    \n",
    "info_df['ParkType'] = info_df['ParkType'].map(return_park_type)"
   ]
  },
  {
   "cell_type": "code",
   "execution_count": 9,
   "metadata": {
    "collapsed": false
   },
   "outputs": [
    {
     "data": {
      "text/plain": [
       "2    131\n",
       "1     45\n",
       "4     19\n",
       "3     18\n",
       "7     10\n",
       "8      2\n",
       "6      2\n",
       "9      1\n",
       "5      1\n",
       "Name: ParkType, dtype: int64"
      ]
     },
     "execution_count": 9,
     "metadata": {},
     "output_type": "execute_result"
    }
   ],
   "source": [
    "info_df['ParkType'].value_counts()"
   ]
  },
  {
   "cell_type": "code",
   "execution_count": 10,
   "metadata": {
    "collapsed": false
   },
   "outputs": [
    {
     "data": {
      "text/html": [
       "<div>\n",
       "<table border=\"1\" class=\"dataframe\">\n",
       "  <thead>\n",
       "    <tr style=\"text-align: right;\">\n",
       "      <th></th>\n",
       "      <th>ParkName</th>\n",
       "      <th>ParkType</th>\n",
       "      <th>ParkServiceArea</th>\n",
       "      <th>PSAManager</th>\n",
       "      <th>email</th>\n",
       "      <th>Number</th>\n",
       "      <th>Zipcode</th>\n",
       "      <th>Acreage</th>\n",
       "      <th>SupDist</th>\n",
       "      <th>ParkID</th>\n",
       "      <th>Location 1</th>\n",
       "      <th>Lat</th>\n",
       "      <th>Score</th>\n",
       "    </tr>\n",
       "  </thead>\n",
       "  <tbody>\n",
       "    <tr>\n",
       "      <th>0</th>\n",
       "      <td>10TH AVE/CLEMENT MINI PARK</td>\n",
       "      <td>1</td>\n",
       "      <td>PSA 1</td>\n",
       "      <td>Elder, Steve</td>\n",
       "      <td>steven.elder@sfgov.org</td>\n",
       "      <td>(415) 601-6501</td>\n",
       "      <td>94118.0</td>\n",
       "      <td>0.66</td>\n",
       "      <td>1.0</td>\n",
       "      <td>156.0</td>\n",
       "      <td>351 9th Ave\\nSan Francisco, CA\\n(37.78184397, ...</td>\n",
       "      <td>NaN</td>\n",
       "      <td>0.910440</td>\n",
       "    </tr>\n",
       "    <tr>\n",
       "      <th>1</th>\n",
       "      <td>15TH AVENUE STEPS</td>\n",
       "      <td>1</td>\n",
       "      <td>PSA 4</td>\n",
       "      <td>Sheehy, Chuck</td>\n",
       "      <td>charles.sheehy@sfgov.org</td>\n",
       "      <td>(415) 218-2226</td>\n",
       "      <td>94122.0</td>\n",
       "      <td>0.26</td>\n",
       "      <td>7.0</td>\n",
       "      <td>185.0</td>\n",
       "      <td>15th Ave b w Kirkham\\nSan Francisco, CA\\n(37.7...</td>\n",
       "      <td>NaN</td>\n",
       "      <td>NaN</td>\n",
       "    </tr>\n",
       "    <tr>\n",
       "      <th>2</th>\n",
       "      <td>24TH/YORK MINI PARK</td>\n",
       "      <td>1</td>\n",
       "      <td>PSA 6</td>\n",
       "      <td>Field, Adrian</td>\n",
       "      <td>adrian.field@sfgov.org</td>\n",
       "      <td>(415) 717-2872</td>\n",
       "      <td>94110.0</td>\n",
       "      <td>0.12</td>\n",
       "      <td>9.0</td>\n",
       "      <td>51.0</td>\n",
       "      <td>24th\\nSan Francisco, CA\\n(37.75306042, -122.40...</td>\n",
       "      <td>NaN</td>\n",
       "      <td>0.978033</td>\n",
       "    </tr>\n",
       "    <tr>\n",
       "      <th>3</th>\n",
       "      <td>29TH/DIAMOND OPEN SPACE</td>\n",
       "      <td>2</td>\n",
       "      <td>PSA 5</td>\n",
       "      <td>O'Brien, Teresa</td>\n",
       "      <td>teresa.o'brien@sfgov.org</td>\n",
       "      <td>(415) 819-2699</td>\n",
       "      <td>94131.0</td>\n",
       "      <td>0.82</td>\n",
       "      <td>8.0</td>\n",
       "      <td>194.0</td>\n",
       "      <td>Diamond\\nSan Francisco, CA\\n(37.74360211, -122...</td>\n",
       "      <td>NaN</td>\n",
       "      <td>0.896750</td>\n",
       "    </tr>\n",
       "    <tr>\n",
       "      <th>4</th>\n",
       "      <td>ADAM ROGERS PARK</td>\n",
       "      <td>2</td>\n",
       "      <td>PSA 3</td>\n",
       "      <td>Watkins, Robert</td>\n",
       "      <td>robert.watkins@sfgov.org</td>\n",
       "      <td>(415) 819-6138</td>\n",
       "      <td>94124.0</td>\n",
       "      <td>2.74</td>\n",
       "      <td>10.0</td>\n",
       "      <td>46.0</td>\n",
       "      <td>Ingalls\\nSan Francisco, CA\\n(37.73101645, -122...</td>\n",
       "      <td>NaN</td>\n",
       "      <td>0.807344</td>\n",
       "    </tr>\n",
       "  </tbody>\n",
       "</table>\n",
       "</div>"
      ],
      "text/plain": [
       "                     ParkName  ParkType ParkServiceArea       PSAManager  \\\n",
       "0  10TH AVE/CLEMENT MINI PARK         1           PSA 1     Elder, Steve   \n",
       "1           15TH AVENUE STEPS         1           PSA 4    Sheehy, Chuck   \n",
       "2         24TH/YORK MINI PARK         1           PSA 6    Field, Adrian   \n",
       "3     29TH/DIAMOND OPEN SPACE         2           PSA 5  O'Brien, Teresa   \n",
       "4            ADAM ROGERS PARK         2           PSA 3  Watkins, Robert   \n",
       "\n",
       "                      email          Number  Zipcode  Acreage  SupDist  \\\n",
       "0    steven.elder@sfgov.org  (415) 601-6501  94118.0     0.66      1.0   \n",
       "1  charles.sheehy@sfgov.org  (415) 218-2226  94122.0     0.26      7.0   \n",
       "2    adrian.field@sfgov.org  (415) 717-2872  94110.0     0.12      9.0   \n",
       "3  teresa.o'brien@sfgov.org  (415) 819-2699  94131.0     0.82      8.0   \n",
       "4  robert.watkins@sfgov.org  (415) 819-6138  94124.0     2.74     10.0   \n",
       "\n",
       "   ParkID                                         Location 1  Lat     Score  \n",
       "0   156.0  351 9th Ave\\nSan Francisco, CA\\n(37.78184397, ...  NaN  0.910440  \n",
       "1   185.0  15th Ave b w Kirkham\\nSan Francisco, CA\\n(37.7...  NaN       NaN  \n",
       "2    51.0  24th\\nSan Francisco, CA\\n(37.75306042, -122.40...  NaN  0.978033  \n",
       "3   194.0  Diamond\\nSan Francisco, CA\\n(37.74360211, -122...  NaN  0.896750  \n",
       "4    46.0  Ingalls\\nSan Francisco, CA\\n(37.73101645, -122...  NaN  0.807344  "
      ]
     },
     "execution_count": 10,
     "metadata": {},
     "output_type": "execute_result"
    }
   ],
   "source": [
    "info_merged = info_df.merge(scores_df, how='inner', on='ParkID')\n",
    "info_merged.head()\n",
    "\n",
    "mean_score_by_park = info_merged.groupby('ParkID')[['Score']].apply(np.mean).reset_index()\n",
    "\n",
    "mean_score_by_park.sort_values(by='Score', ascending=False, inplace=True)\n",
    "\n",
    "park_by_mean_score = info_df.merge(mean_score_by_park, how='left', on='ParkID')\n",
    "\n",
    "park_by_mean_score.head()"
   ]
  },
  {
   "cell_type": "code",
   "execution_count": 11,
   "metadata": {
    "collapsed": false,
    "scrolled": true
   },
   "outputs": [
    {
     "data": {
      "text/html": [
       "<div>\n",
       "<table border=\"1\" class=\"dataframe\">\n",
       "  <thead>\n",
       "    <tr style=\"text-align: right;\">\n",
       "      <th></th>\n",
       "      <th>ParkName</th>\n",
       "      <th>ParkType</th>\n",
       "      <th>ParkServiceArea</th>\n",
       "      <th>PSAManager</th>\n",
       "      <th>email</th>\n",
       "      <th>Number</th>\n",
       "      <th>Zipcode</th>\n",
       "      <th>Acreage</th>\n",
       "      <th>SupDist</th>\n",
       "      <th>ParkID</th>\n",
       "      <th>Location 1</th>\n",
       "      <th>Lat</th>\n",
       "    </tr>\n",
       "  </thead>\n",
       "  <tbody>\n",
       "    <tr>\n",
       "      <th>1</th>\n",
       "      <td>10th ave/clement mini park</td>\n",
       "      <td>1</td>\n",
       "      <td>PSA 1</td>\n",
       "      <td>Elder, Steve</td>\n",
       "      <td>steven.elder@sfgov.org</td>\n",
       "      <td>(415) 601-6501</td>\n",
       "      <td>94118.0</td>\n",
       "      <td>0.66</td>\n",
       "      <td>1.0</td>\n",
       "      <td>156.0</td>\n",
       "      <td>351 9th Ave\\nSan Francisco, CA\\n(37.78184397, ...</td>\n",
       "      <td>NaN</td>\n",
       "    </tr>\n",
       "    <tr>\n",
       "      <th>2</th>\n",
       "      <td>15th avenue steps</td>\n",
       "      <td>1</td>\n",
       "      <td>PSA 4</td>\n",
       "      <td>Sheehy, Chuck</td>\n",
       "      <td>charles.sheehy@sfgov.org</td>\n",
       "      <td>(415) 218-2226</td>\n",
       "      <td>94122.0</td>\n",
       "      <td>0.26</td>\n",
       "      <td>7.0</td>\n",
       "      <td>185.0</td>\n",
       "      <td>15th Ave b w Kirkham\\nSan Francisco, CA\\n(37.7...</td>\n",
       "      <td>NaN</td>\n",
       "    </tr>\n",
       "    <tr>\n",
       "      <th>3</th>\n",
       "      <td>24th/york mini park</td>\n",
       "      <td>1</td>\n",
       "      <td>PSA 6</td>\n",
       "      <td>Field, Adrian</td>\n",
       "      <td>adrian.field@sfgov.org</td>\n",
       "      <td>(415) 717-2872</td>\n",
       "      <td>94110.0</td>\n",
       "      <td>0.12</td>\n",
       "      <td>9.0</td>\n",
       "      <td>51.0</td>\n",
       "      <td>24th\\nSan Francisco, CA\\n(37.75306042, -122.40...</td>\n",
       "      <td>NaN</td>\n",
       "    </tr>\n",
       "    <tr>\n",
       "      <th>4</th>\n",
       "      <td>29th/diamond open space</td>\n",
       "      <td>2</td>\n",
       "      <td>PSA 5</td>\n",
       "      <td>O'Brien, Teresa</td>\n",
       "      <td>teresa.o'brien@sfgov.org</td>\n",
       "      <td>(415) 819-2699</td>\n",
       "      <td>94131.0</td>\n",
       "      <td>0.82</td>\n",
       "      <td>8.0</td>\n",
       "      <td>194.0</td>\n",
       "      <td>Diamond\\nSan Francisco, CA\\n(37.74360211, -122...</td>\n",
       "      <td>NaN</td>\n",
       "    </tr>\n",
       "    <tr>\n",
       "      <th>5</th>\n",
       "      <td>adam rogers park</td>\n",
       "      <td>2</td>\n",
       "      <td>PSA 3</td>\n",
       "      <td>Watkins, Robert</td>\n",
       "      <td>robert.watkins@sfgov.org</td>\n",
       "      <td>(415) 819-6138</td>\n",
       "      <td>94124.0</td>\n",
       "      <td>2.74</td>\n",
       "      <td>10.0</td>\n",
       "      <td>46.0</td>\n",
       "      <td>Ingalls\\nSan Francisco, CA\\n(37.73101645, -122...</td>\n",
       "      <td>NaN</td>\n",
       "    </tr>\n",
       "  </tbody>\n",
       "</table>\n",
       "</div>"
      ],
      "text/plain": [
       "                     ParkName  ParkType ParkServiceArea       PSAManager  \\\n",
       "1  10th ave/clement mini park         1           PSA 1     Elder, Steve   \n",
       "2           15th avenue steps         1           PSA 4    Sheehy, Chuck   \n",
       "3         24th/york mini park         1           PSA 6    Field, Adrian   \n",
       "4     29th/diamond open space         2           PSA 5  O'Brien, Teresa   \n",
       "5            adam rogers park         2           PSA 3  Watkins, Robert   \n",
       "\n",
       "                      email          Number  Zipcode  Acreage  SupDist  \\\n",
       "1    steven.elder@sfgov.org  (415) 601-6501  94118.0     0.66      1.0   \n",
       "2  charles.sheehy@sfgov.org  (415) 218-2226  94122.0     0.26      7.0   \n",
       "3    adrian.field@sfgov.org  (415) 717-2872  94110.0     0.12      9.0   \n",
       "4  teresa.o'brien@sfgov.org  (415) 819-2699  94131.0     0.82      8.0   \n",
       "5  robert.watkins@sfgov.org  (415) 819-6138  94124.0     2.74     10.0   \n",
       "\n",
       "   ParkID                                         Location 1  Lat  \n",
       "1   156.0  351 9th Ave\\nSan Francisco, CA\\n(37.78184397, ...  NaN  \n",
       "2   185.0  15th Ave b w Kirkham\\nSan Francisco, CA\\n(37.7...  NaN  \n",
       "3    51.0  24th\\nSan Francisco, CA\\n(37.75306042, -122.40...  NaN  \n",
       "4   194.0  Diamond\\nSan Francisco, CA\\n(37.74360211, -122...  NaN  \n",
       "5    46.0  Ingalls\\nSan Francisco, CA\\n(37.73101645, -122...  NaN  "
      ]
     },
     "execution_count": 11,
     "metadata": {},
     "output_type": "execute_result"
    }
   ],
   "source": [
    "info_df['ParkName'] = info_df['ParkName'].map(lambda x: x.lower())\n",
    "\n",
    "info_df.head()"
   ]
  },
  {
   "cell_type": "code",
   "execution_count": 12,
   "metadata": {
    "collapsed": false,
    "scrolled": true
   },
   "outputs": [
    {
     "name": "stdout",
     "output_type": "stream",
     "text": [
      "               Close Date                         Account Name  \\\n",
      "0  07/08/2014 12:00:00 AM                Glen Park Association   \n",
      "1  07/09/2014 12:00:00 AM                          USTA NorCAL   \n",
      "2  08/21/2014 12:00:00 AM         Walter S. Johnson Foundation   \n",
      "3  09/04/2014 12:00:00 AM                    Kaiser Permanente   \n",
      "4  09/08/2014 12:00:00 AM  San Francisco Parks Alliance (SFPA)   \n",
      "\n",
      "                                         Description    Amount  Type  \n",
      "0  To support botanical signs at the Sunnyside Co...   $500.00  Cash  \n",
      "1  To support HITS tennis programming and provide...  $2050.00  Cash  \n",
      "2  To support grounds maintenance at the Walter S...  $5000.00  Cash  \n",
      "3  To support the Golden Gate Park Senior Center ...  $1000.00  Cash  \n",
      "4  To support landscape improvements to Kezar Tri...  $1732.08  Cash  \n"
     ]
    },
    {
     "data": {
      "text/plain": [
       "363"
      ]
     },
     "execution_count": 12,
     "metadata": {},
     "output_type": "execute_result"
    }
   ],
   "source": [
    "\n",
    "donations_df.head()\n",
    "\n",
    "print donations_df.head()\n",
    "len(donations_df)"
   ]
  },
  {
   "cell_type": "code",
   "execution_count": 13,
   "metadata": {
    "collapsed": false
   },
   "outputs": [
    {
     "data": {
      "text/plain": [
       "5495"
      ]
     },
     "execution_count": 13,
     "metadata": {},
     "output_type": "execute_result"
    }
   ],
   "source": [
    "len(scores_df)"
   ]
  },
  {
   "cell_type": "code",
   "execution_count": 14,
   "metadata": {
    "collapsed": false
   },
   "outputs": [
    {
     "data": {
      "text/plain": [
       "Counter({'false': 293, 'true': 70})"
      ]
     },
     "execution_count": 14,
     "metadata": {},
     "output_type": "execute_result"
    }
   ],
   "source": [
    "from collections import Counter\n",
    "#donations csv isn't very reliable\n",
    "\n",
    "truelist = []\n",
    "for x in donations_df['Description']:\n",
    "    if 'Park' in x:\n",
    "        truelist.append('true')\n",
    "    else:\n",
    "        truelist.append('false')\n",
    "Counter(truelist)"
   ]
  },
  {
   "cell_type": "code",
   "execution_count": 15,
   "metadata": {
    "collapsed": false
   },
   "outputs": [
    {
     "name": "stdout",
     "output_type": "stream",
     "text": [
      "ParkType    0\n",
      "Acreage     0\n",
      "SupDist     0\n",
      "ParkID      0\n",
      "Score       0\n",
      "dtype: int64\n",
      "[False]\n"
     ]
    }
   ],
   "source": [
    "meanbyscore_df = park_by_mean_score[park_by_mean_score['Score'] > 0]\n",
    "\n",
    "meanbyscore_df['Score'].isnull().value_counts()\n",
    "\n",
    "meanbyscore_df = meanbyscore_df[meanbyscore_df['Acreage'] < 100]\n",
    "\n",
    "meanbyscore_df = meanbyscore_df[meanbyscore_df['Acreage'] > 0]\n",
    "meanbyscore_df.head()\n",
    "meanbyscore_df.drop('ParkName', axis=1, inplace=True)\n",
    "meanbyscore_df.drop('ParkServiceArea', axis=1, inplace=True)\n",
    "meanbyscore_df.drop('PSAManager', axis=1, inplace=True)\n",
    "meanbyscore_df.drop('email', axis=1, inplace=True)\n",
    "meanbyscore_df.drop('Lat', axis=1, inplace=True)\n",
    "meanbyscore_df.drop('Location 1', axis=1, inplace=True)\n",
    "meanbyscore_df.drop('Number', axis=1, inplace=True)\n",
    "meanbyscore_df.drop('Zipcode', axis=1, inplace=True)\n",
    "\n",
    "#meanbyscore_df['Score'] = meanbyscore_df[meanbyscore_df['Score'] > 0]\n",
    "\n",
    "meanbyscore_df.head()\n",
    "\n",
    "print meanbyscore_df.isnull().sum()\n",
    "\n",
    "print (meanbyscore_df['Acreage'] < 0).unique()"
   ]
  },
  {
   "cell_type": "code",
   "execution_count": 16,
   "metadata": {
    "collapsed": false
   },
   "outputs": [
    {
     "data": {
      "text/html": [
       "<div>\n",
       "<table border=\"1\" class=\"dataframe\">\n",
       "  <thead>\n",
       "    <tr style=\"text-align: right;\">\n",
       "      <th></th>\n",
       "      <th>ParkType</th>\n",
       "      <th>Acreage</th>\n",
       "      <th>SupDist</th>\n",
       "      <th>ParkID</th>\n",
       "      <th>Score</th>\n",
       "    </tr>\n",
       "  </thead>\n",
       "  <tbody>\n",
       "    <tr>\n",
       "      <th>ParkType</th>\n",
       "      <td>1.000000</td>\n",
       "      <td>0.292123</td>\n",
       "      <td>-0.275288</td>\n",
       "      <td>-0.064727</td>\n",
       "      <td>0.099800</td>\n",
       "    </tr>\n",
       "    <tr>\n",
       "      <th>Acreage</th>\n",
       "      <td>0.292123</td>\n",
       "      <td>1.000000</td>\n",
       "      <td>0.039233</td>\n",
       "      <td>0.026781</td>\n",
       "      <td>-0.030019</td>\n",
       "    </tr>\n",
       "    <tr>\n",
       "      <th>SupDist</th>\n",
       "      <td>-0.275288</td>\n",
       "      <td>0.039233</td>\n",
       "      <td>1.000000</td>\n",
       "      <td>0.119276</td>\n",
       "      <td>-0.228060</td>\n",
       "    </tr>\n",
       "    <tr>\n",
       "      <th>ParkID</th>\n",
       "      <td>-0.064727</td>\n",
       "      <td>0.026781</td>\n",
       "      <td>0.119276</td>\n",
       "      <td>1.000000</td>\n",
       "      <td>-0.053397</td>\n",
       "    </tr>\n",
       "    <tr>\n",
       "      <th>Score</th>\n",
       "      <td>0.099800</td>\n",
       "      <td>-0.030019</td>\n",
       "      <td>-0.228060</td>\n",
       "      <td>-0.053397</td>\n",
       "      <td>1.000000</td>\n",
       "    </tr>\n",
       "  </tbody>\n",
       "</table>\n",
       "</div>"
      ],
      "text/plain": [
       "          ParkType   Acreage   SupDist    ParkID     Score\n",
       "ParkType  1.000000  0.292123 -0.275288 -0.064727  0.099800\n",
       "Acreage   0.292123  1.000000  0.039233  0.026781 -0.030019\n",
       "SupDist  -0.275288  0.039233  1.000000  0.119276 -0.228060\n",
       "ParkID   -0.064727  0.026781  0.119276  1.000000 -0.053397\n",
       "Score     0.099800 -0.030019 -0.228060 -0.053397  1.000000"
      ]
     },
     "execution_count": 16,
     "metadata": {},
     "output_type": "execute_result"
    }
   ],
   "source": [
    "meanbyscore_df.corr()"
   ]
  },
  {
   "cell_type": "code",
   "execution_count": 17,
   "metadata": {
    "collapsed": false
   },
   "outputs": [
    {
     "data": {
      "image/png": "[encoded data removed]",
      "text/plain": [
       "<matplotlib.figure.Figure at 0x7fca07102bd0>"
      ]
     },
     "metadata": {},
     "output_type": "display_data"
    }
   ],
   "source": [
    "fig = plt.figure(figsize=(10,6))\n",
    "fig = plt.scatter(data=meanbyscore_df, x='Score', y='Acreage')"
   ]
  },
  {
   "cell_type": "code",
   "execution_count": 20,
   "metadata": {
    "collapsed": false
   },
   "outputs": [
    {
     "data": {
      "image/png": "[encoded data removed]",
      "text/plain": [
       "<matplotlib.figure.Figure at 0x7fca03e58210>"
      ]
     },
     "metadata": {},
     "output_type": "display_data"
    }
   ],
   "source": [
    "fig_1 = plt.figure(figsize=(10,6))\n",
    "#catagorical, cannot run a regressoin on parktype\n",
    "fig_1 = plt.scatter(data=meanbyscore_df, x='Score', y='ParkType')"
   ]
  },
  {
   "cell_type": "code",
   "execution_count": 21,
   "metadata": {
    "collapsed": false
   },
   "outputs": [
    {
     "data": {
      "image/png": "[encoded data removed]",
      "text/plain": [
       "<matplotlib.figure.Figure at 0x7fca03fddd50>"
      ]
     },
     "metadata": {},
     "output_type": "display_data"
    }
   ],
   "source": [
    "ax = sns.boxplot(data=meanbyscore_df, x='ParkType', y='Score', orient='v')"
   ]
  },
  {
   "cell_type": "code",
   "execution_count": 22,
   "metadata": {
    "collapsed": false
   },
   "outputs": [
    {
     "data": {
      "image/png": "[encoded data removed]",
      "text/plain": [
       "<matplotlib.figure.Figure at 0x7fca03da36d0>"
      ]
     },
     "metadata": {},
     "output_type": "display_data"
    }
   ],
   "source": [
    "ax1 = sns.pairplot(meanbyscore_df, vars=['ParkType', 'Score', 'Acreage', 'SupDist'])"
   ]
  },
  {
   "cell_type": "markdown",
   "metadata": {},
   "source": [
    "<img src=\"http://imgur.com/l5NasQj.png\" style=\"float: left; margin: 25px 15px 0px 0px; height: 25px\">\n",
    "\n",
    "### 2. Construct and evaluate a linear regression model on the data\n",
    "\n",
    "---\n",
    "\n",
    "1. State the variables that are predictors in your linear regression and the target variable.\n",
    "- Investigate and remove any outliers or other problems in your data. _This is a subjective process._\n",
    "- Construct a linear regression model.\n",
    "- Evaluate the model. How does the $R^2$ of the overall model compare to cross-validated $R^2$. What do the differences in $R^2$ mean?\n",
    "  - Use test / train split\n",
    "  - Use K-Folds\n",
    "  - Compare and explain your results with both\n",
    "- Visualize the evaluation metrics of your analysis in clear charts.\n",
    "- Summarize your results in the context of your hypothesis. Frame this as if you are presenting to non-technical readers.\n"
   ]
  },
  {
   "cell_type": "code",
   "execution_count": 23,
   "metadata": {
    "collapsed": false
   },
   "outputs": [],
   "source": [
    "def plot_regression_wbaseline(x, y, yhat, labelx, labely):\n",
    "    \n",
    "    fig = plt.figure(figsize=(7,7))\n",
    "    ax = fig.gca()\n",
    "    \n",
    "    ymean = np.mean(y)\n",
    "    \n",
    "    #data\n",
    "    ax.scatter(x, y, color='purple', s=70, label='true y')\n",
    "    \n",
    "    min_x, max_x = np.min(x), np.max(x)\n",
    "    min_yhat = np.min(yhat)\n",
    "    max_yhat = np.max(yhat)\n",
    "    \n",
    "    #regression line\n",
    "    ax.plot([min_x, max_x], [min_yhat, max_yhat], color='darkred',\n",
    "            linewidth=4, alpha=0.7, label='regression model')\n",
    "    #baseline\n",
    "    ax.plot([min_x, max_x], [ymean, ymean], color='steelblue',\n",
    "            linewidth=4, alpha=0.7, label='baseline model')\n",
    "    \n",
    "    ax.set_xlabel(labelx, fontsize=16)\n",
    "    ax.set_ylabel(labely, fontsize=16)\n",
    "    \n",
    "    plt.legend(loc='upper left')\n",
    "    \n",
    "    plt.show()"
   ]
  },
  {
   "cell_type": "code",
   "execution_count": 24,
   "metadata": {
    "collapsed": true
   },
   "outputs": [],
   "source": [
    "from sklearn import linear_model, metrics\n",
    "import patsy"
   ]
  },
  {
   "cell_type": "code",
   "execution_count": 25,
   "metadata": {
    "collapsed": false,
    "scrolled": false
   },
   "outputs": [
    {
     "name": "stdout",
     "output_type": "stream",
     "text": [
      "(171, 1)\n",
      "(171, 1)\n"
     ]
    },
    {
     "data": {
      "image/png": "[encoded data removed]",
      "text/plain": [
       "<matplotlib.figure.Figure at 0x7fca03ea6750>"
      ]
     },
     "metadata": {},
     "output_type": "display_data"
    },
    {
     "name": "stdout",
     "output_type": "stream",
     "text": [
      "(114, 1) (114, 1)\n",
      "(57, 1) (57, 1)\n",
      "Regression score:  0.00120201362316\n",
      "Cross-validated scores: -0.149397455091\n"
     ]
    },
    {
     "data": {
      "image/png": "[encoded data removed]",
      "text/plain": [
       "<matplotlib.figure.Figure at 0x7fca00766390>"
      ]
     },
     "metadata": {},
     "output_type": "display_data"
    }
   ],
   "source": [
    "#I am trying to predict park score by the size of the park (acreage),\n",
    "#and by the park type, 1-9\n",
    "\n",
    "from sklearn.cross_validation import cross_val_score, cross_val_predict, train_test_split\n",
    "\n",
    "\n",
    "lm = linear_model.LinearRegression()\n",
    "y, X = patsy.dmatrices(formula_like='Score ~ Acreage - 1',\n",
    "                       data = meanbyscore_df,\n",
    "                       return_type='dataframe')\n",
    "print X.shape\n",
    "print y.shape\n",
    "\n",
    "model = lm.fit(X,y)\n",
    "predictions = model.predict(X)\n",
    "\n",
    "\n",
    "plot_regression_wbaseline(X, y, predictions, 'Acreage', 'Score')\n",
    "\n",
    "X_train, X_test, y_train, y_test = train_test_split(X, y, test_size=0.33)\n",
    "print X_train.shape, y_train.shape\n",
    "print X_test.shape, y_test.shape\n",
    "\n",
    "\n",
    "model_1 = lm.fit(X_train, y_train)\n",
    "\n",
    "print 'Regression score: ', model_1.score(X_test, y_test)\n",
    "\n",
    "predictions = model_1.predict(X_test)\n",
    "\n",
    "plt.scatter(y_test, predictions, s=50, c='r', marker='+')\n",
    "\n",
    "predictions = cross_val_predict(model, X_test, y_test, cv=5)\n",
    "\n",
    "## The line / model\n",
    "\n",
    "scores = cross_val_score(model_1, X_test, y_test, cv=5)\n",
    "print \"Cross-validated scores:\", np.mean(scores)"
   ]
  },
  {
   "cell_type": "code",
   "execution_count": 26,
   "metadata": {
    "collapsed": false
   },
   "outputs": [
    {
     "data": {
      "text/plain": [
       "\"\\nBy the regression it is clear that Acreage isn't a determining factor in park score,\\nas there is a cluster of parks whose acreage is < 10 that have great scores compared to other, larger parks\\n\""
      ]
     },
     "execution_count": 26,
     "metadata": {},
     "output_type": "execute_result"
    }
   ],
   "source": [
    "'''\n",
    "By the regression it is clear that Acreage isn't a determining factor in park score,\n",
    "as there is a cluster of parks whose acreage is < 10 that have great scores compared to other, larger parks\n",
    "'''"
   ]
  },
  {
   "cell_type": "markdown",
   "metadata": {},
   "source": [
    "<img src=\"http://imgur.com/xDpSobf.png\" style=\"float: left; margin: 25px 15px 0px 0px; height: 25px\">\n",
    "\n",
    "### 2.2 Explain $R^2$ vs. mean squared error (MSE)\n",
    "\n",
    "---\n",
    "\n",
    "1. If you have negative $R^2$ values in cross-validation, what does this mean? \n",
    "2. Why can $R^2$ be negative when the model is tested on new data?"
   ]
  },
  {
   "cell_type": "code",
   "execution_count": 27,
   "metadata": {
    "collapsed": false
   },
   "outputs": [
    {
     "data": {
      "text/plain": [
       "\"\\n1. If you have negative r^2 values in cross validation that just means that your model is a bad fit for whatever data you're using\\nit is  somewhat random depending on what cross validation method you use, Kfolds, train test split, however, what method you use to cross validate shouldn't make the difference between \\nthe values being negative or positive unless the r^2 value was already within a range of -1 --> 1\\n\\n2. R^2 can be negative when  tested on new data if your model is not a good fit of the new data, this is possible, however not desired.\\n\\n\""
      ]
     },
     "execution_count": 27,
     "metadata": {},
     "output_type": "execute_result"
    }
   ],
   "source": [
    "'''\n",
    "1. If you have negative r^2 values in cross validation that just means that your model is a bad fit for whatever data you're using\n",
    "it is  somewhat random depending on what cross validation method you use, Kfolds, train test split, however, what method you use to cross validate shouldn't make the difference between \n",
    "the values being negative or positive unless the r^2 value was already within a range of -1 --> 1\n",
    "\n",
    "2. R^2 can be negative when  tested on new data if your model is not a good fit of the new data, this is possible, however not desired.\n",
    "\n",
    "'''"
   ]
  },
  {
   "cell_type": "markdown",
   "metadata": {},
   "source": [
    "<img src=\"http://imgur.com/l5NasQj.png\" style=\"float: left; margin: 25px 15px 0px 0px; height: 25px\">\n",
    "\n",
    "### 3. Combine multiple sources of data and evaluate a model with regularized regression\n",
    "\n",
    "---\n",
    "\n",
    "**I recommend having many predictors to see benefits from regularization methods, but it's up to you.**\n",
    "\n",
    "1. Use _NEW_ sources of data for this section. It should not be related to your analysis/hypothesis from section 1.\n",
    "- Like in part 1, you should state a hypothesis and perform data cleaning and EDA _only_ on the relevant portions of your data. Don't waste time!\n",
    "- Construct and evaluate different models with cross-validated $R^2$. Compare LinearRegression, Lasso, Ridge, and ElasticNet. Find the optimal hyperparameters (alpha, l1_ratio) using gridsearch.\n",
    "- Report on which model is best, and why that might be the case (hint: does your data have multicollinearity? Irrelevant variables? Both?)\n",
    "- Plot visuals that compare the performance of the four models.\n"
   ]
  },
  {
   "cell_type": "code",
   "execution_count": 28,
   "metadata": {
    "collapsed": true
   },
   "outputs": [],
   "source": [
    "#I have a hypothesis of businesses becoming more successful in passing health inspections\n",
    "#as they gain more and more inspections, whether they passed or not."
   ]
  },
  {
   "cell_type": "code",
   "execution_count": 29,
   "metadata": {
    "collapsed": true
   },
   "outputs": [],
   "source": [
    "import matplotlib.pyplot as plt\n",
    "import seaborn as sns"
   ]
  },
  {
   "cell_type": "code",
   "execution_count": 30,
   "metadata": {
    "collapsed": false
   },
   "outputs": [],
   "source": [
    "businesses_path = '../../../../dsi-sf-2/datasets/san_francisco/san_francisco/yelp_sf_healthcode_violations/businesses.csv'\n",
    "legend_path = '../../../../dsi-sf-2/datasets/san_francisco/san_francisco/yelp_sf_healthcode_violations/code_legend.csv'\n",
    "inspection_path = '../../../../dsi-sf-2/datasets/san_francisco/san_francisco/yelp_sf_healthcode_violations/inspections.csv'\n",
    "violations_path = '../../../../dsi-sf-2/datasets/san_francisco/san_francisco/yelp_sf_healthcode_violations/violations.csv'\n",
    "\n",
    "business_df = pd.read_csv(businesses_path)\n",
    "legend_df = pd.read_csv(legend_path)\n",
    "inspection_df = pd.read_csv(inspection_path)\n",
    "violations_df = pd.read_csv(violations_path)"
   ]
  },
  {
   "cell_type": "code",
   "execution_count": 31,
   "metadata": {
    "collapsed": false,
    "scrolled": true
   },
   "outputs": [
    {
     "data": {
      "text/html": [
       "<div>\n",
       "<table border=\"1\" class=\"dataframe\">\n",
       "  <thead>\n",
       "    <tr style=\"text-align: right;\">\n",
       "      <th></th>\n",
       "      <th>business_id</th>\n",
       "      <th>score</th>\n",
       "    </tr>\n",
       "  </thead>\n",
       "  <tbody>\n",
       "    <tr>\n",
       "      <th>0</th>\n",
       "      <td>10</td>\n",
       "      <td>93.000000</td>\n",
       "    </tr>\n",
       "    <tr>\n",
       "      <th>1</th>\n",
       "      <td>19</td>\n",
       "      <td>94.666667</td>\n",
       "    </tr>\n",
       "    <tr>\n",
       "      <th>2</th>\n",
       "      <td>24</td>\n",
       "      <td>97.000000</td>\n",
       "    </tr>\n",
       "    <tr>\n",
       "      <th>3</th>\n",
       "      <td>31</td>\n",
       "      <td>99.000000</td>\n",
       "    </tr>\n",
       "    <tr>\n",
       "      <th>4</th>\n",
       "      <td>45</td>\n",
       "      <td>88.666667</td>\n",
       "    </tr>\n",
       "  </tbody>\n",
       "</table>\n",
       "</div>"
      ],
      "text/plain": [
       "   business_id      score\n",
       "0           10  93.000000\n",
       "1           19  94.666667\n",
       "2           24  97.000000\n",
       "3           31  99.000000\n",
       "4           45  88.666667"
      ]
     },
     "execution_count": 31,
     "metadata": {},
     "output_type": "execute_result"
    }
   ],
   "source": [
    "businesscpy = business_df\n",
    "\n",
    "businesscpy = businesscpy.merge(inspection_df, on='business_id', how='inner')\n",
    "\n",
    "meanscorebybusiness= businesscpy.groupby('business_id')[['score']].apply(np.mean).reset_index()\n",
    "\n",
    "meanscorebybusiness.head()\n"
   ]
  },
  {
   "cell_type": "code",
   "execution_count": 32,
   "metadata": {
    "collapsed": false,
    "scrolled": true
   },
   "outputs": [],
   "source": [
    "businessbymeanscore = business_df.merge(meanscorebybusiness, on='business_id', how='left')\n",
    "\n",
    "businesses_by_inspeccount = pd.DataFrame(inspection_df['business_id'].value_counts()).reset_index()\n",
    "\n",
    "businesses_by_inspeccount.columns=['business_id', 'numinspections']\n",
    "\n",
    "businesses_by_inspeccount.head()\n",
    "\n",
    "tester_frame = meanscorebybusiness.merge(businesses_by_inspeccount, on='business_id', how='left')\n",
    "\n",
    "tester_frame = tester_frame[tester_frame['numinspections'] < 8]"
   ]
  },
  {
   "cell_type": "code",
   "execution_count": 33,
   "metadata": {
    "collapsed": false
   },
   "outputs": [
    {
     "data": {
      "text/plain": [
       "<seaborn.axisgrid.PairGrid at 0x7fc9ffd9d950>"
      ]
     },
     "execution_count": 33,
     "metadata": {},
     "output_type": "execute_result"
    },
    {
     "data": {
      "image/png": "[encoded data removed]",
      "text/plain": [
       "<matplotlib.figure.Figure at 0x7fc9ffd9d850>"
      ]
     },
     "metadata": {},
     "output_type": "display_data"
    }
   ],
   "source": [
    "sns.pairplot(data=tester_frame, kind='reg')"
   ]
  },
  {
   "cell_type": "code",
   "execution_count": 34,
   "metadata": {
    "collapsed": false,
    "scrolled": true
   },
   "outputs": [
    {
     "data": {
      "text/plain": [
       "(array([ 1015.,  1320.,     0.,  1666.,     0.,  1004.,   334.,     0.,\n",
       "          129.,    42.]),\n",
       " array([ 1. ,  1.6,  2.2,  2.8,  3.4,  4. ,  4.6,  5.2,  5.8,  6.4,  7. ]),\n",
       " <a list of 10 Patch objects>)"
      ]
     },
     "execution_count": 34,
     "metadata": {},
     "output_type": "execute_result"
    },
    {
     "data": {
      "image/png": "[encoded data removed]",
      "text/plain": [
       "<matplotlib.figure.Figure at 0x7fc9fff19290>"
      ]
     },
     "metadata": {},
     "output_type": "display_data"
    }
   ],
   "source": [
    "plt.hist(x='numinspections', data=tester_frame)"
   ]
  },
  {
   "cell_type": "code",
   "execution_count": 35,
   "metadata": {
    "collapsed": false
   },
   "outputs": [
    {
     "data": {
      "image/png": "[encoded data removed]",
      "text/plain": [
       "<matplotlib.figure.Figure at 0x7fca03251d10>"
      ]
     },
     "metadata": {},
     "output_type": "display_data"
    }
   ],
   "source": [
    "lm = linear_model.LinearRegression()\n",
    "y, X = patsy.dmatrices(formula_like='score ~ numinspections -1',\n",
    "                       data = tester_frame,\n",
    "                       return_type='dataframe')\n",
    "model = lm.fit(X,y)\n",
    "predictions = model.predict(X)\n",
    "plot_regression_wbaseline(X, y, predictions, 'Number of Inspections', 'Mean score')"
   ]
  },
  {
   "cell_type": "code",
   "execution_count": 36,
   "metadata": {
    "collapsed": false
   },
   "outputs": [
    {
     "data": {
      "text/plain": [
       "'\\nIn conclusion, the regression does not fit as a result of there being a high concentration of businesses\\nthat only recieved between one and five total inspections in the dataset, despite the line, the graph\\nwould suggest that as businesses gain more and more opprotunities to do successfully they will reflect\\nthat in their mean score. However this is not valid as the sample size is skewed towards businesses that have had\\nfewer reportable accounts of inspections\\n'"
      ]
     },
     "execution_count": 36,
     "metadata": {},
     "output_type": "execute_result"
    }
   ],
   "source": [
    "'''\n",
    "In conclusion, the regression does not fit as a result of there being a high concentration of businesses\n",
    "that only recieved between one and five total inspections in the dataset, despite the line, the graph\n",
    "would suggest that as businesses gain more and more opprotunities to do successfully they will reflect\n",
    "that in their mean score. However this is not valid as the sample size is skewed towards businesses that have had\n",
    "fewer reportable accounts of inspections\n",
    "'''"
   ]
  },
  {
   "cell_type": "code",
   "execution_count": 37,
   "metadata": {
    "collapsed": false
   },
   "outputs": [
    {
     "name": "stdout",
     "output_type": "stream",
     "text": [
      "LASSO ----------\n",
      "Best est:  Lasso(alpha=1, copy_X=True, fit_intercept=True, max_iter=1000, normalize=True,\n",
      "   positive=False, precompute=False, random_state=None, selection='cyclic',\n",
      "   tol=0.0001, warm_start=False)\n",
      "Best params:  {'normalize': True, 'alpha': 1, 'fit_intercept': True}\n",
      "Best  score:  -0.0482396094641\n",
      "RIDGE -------\n",
      "Ridge(alpha=10000000000.0, copy_X=True, fit_intercept=True, max_iter=None,\n",
      "   normalize=False, random_state=None, solver='auto', tol=0.001)\n",
      "Best Alpha:  {'alpha': 10000000000.0}\n",
      "Best score:  -0.0482396102125\n",
      "ELASTIC NET-------\n",
      "Best est:  ElasticNet(alpha=1.0, copy_X=True, fit_intercept=True, l1_ratio=1.0,\n",
      "      max_iter=1000, normalize=False, positive=False, precompute=False,\n",
      "      random_state=None, selection='cyclic', tol=0.0001, warm_start=False)\n",
      "Best params:  {'l1_ratio': 1.0}\n",
      "Best  score:  -0.048569718045\n"
     ]
    }
   ],
   "source": [
    "from sklearn.linear_model import LinearRegression, Ridge, Lasso, RidgeCV, LassoCV, ElasticNet\n",
    "from sklearn import grid_search\n",
    "\n",
    "\n",
    "num_alpha = np.arange(1, 200, 5)\n",
    "\n",
    "search_parameters = {\n",
    "    'alpha': num_alpha,\n",
    "    'fit_intercept':  [True, False], \n",
    "    'normalize':      [False, True]\n",
    "}\n",
    "\n",
    "\n",
    "lasso = Lasso()\n",
    "estimator = grid_search.GridSearchCV(lasso, search_parameters, cv=5)\n",
    "results = estimator.fit(X, y)\n",
    "\n",
    "print 'LASSO ----------'\n",
    "print 'Best est: ', results.best_estimator_\n",
    "print 'Best params: ', results.best_params_\n",
    "print 'Best  score: ', results.best_score_\n",
    "\n",
    "ridge = Ridge()\n",
    "search_params = {\n",
    "    'alpha' : np.logspace(0, 10, 2)\n",
    "}\n",
    "\n",
    "\n",
    "\n",
    "ridge_estimate = grid_search.GridSearchCV(ridge, search_params, cv=5)\n",
    "\n",
    "\n",
    "r_results = ridge_estimate.fit(X,y)\n",
    "\n",
    "print 'RIDGE -------'\n",
    "print r_results.best_estimator_\n",
    "print 'Best Alpha: ', r_results.best_params_\n",
    "print 'Best score: ', r_results.best_score_\n",
    "\n",
    "elas = ElasticNet()\n",
    "\n",
    "elas_params = {\n",
    "    'l1_ratio': np.linspace(0.01, 1.0, 50)\n",
    "}\n",
    "\n",
    "elas_estimate = grid_search.GridSearchCV(elas, elas_params, cv=5)\n",
    "\n",
    "e_results = elas_estimate.fit(X, y)\n",
    "print 'ELASTIC NET-------'\n",
    "print 'Best est: ', e_results.best_estimator_\n",
    "print 'Best params: ', e_results.best_params_\n",
    "print 'Best  score: ', e_results.best_score_"
   ]
  },
  {
   "cell_type": "code",
   "execution_count": 38,
   "metadata": {
    "collapsed": false
   },
   "outputs": [
    {
     "data": {
      "text/html": [
       "<div>\n",
       "<table border=\"1\" class=\"dataframe\">\n",
       "  <thead>\n",
       "    <tr style=\"text-align: right;\">\n",
       "      <th></th>\n",
       "      <th>business_id</th>\n",
       "      <th>name</th>\n",
       "      <th>address</th>\n",
       "      <th>city</th>\n",
       "      <th>state</th>\n",
       "      <th>postal_code</th>\n",
       "      <th>latitude</th>\n",
       "      <th>longitude</th>\n",
       "      <th>phone_number</th>\n",
       "      <th>score</th>\n",
       "    </tr>\n",
       "  </thead>\n",
       "  <tbody>\n",
       "    <tr>\n",
       "      <th>0</th>\n",
       "      <td>10</td>\n",
       "      <td>TIRAMISU KITCHEN</td>\n",
       "      <td>033 BELDEN PL</td>\n",
       "      <td>San Francisco</td>\n",
       "      <td>CA</td>\n",
       "      <td>94104</td>\n",
       "      <td>37.791116</td>\n",
       "      <td>-122.403816</td>\n",
       "      <td>+14154217044</td>\n",
       "      <td>93.000000</td>\n",
       "    </tr>\n",
       "    <tr>\n",
       "      <th>1</th>\n",
       "      <td>19</td>\n",
       "      <td>NRGIZE LIFESTYLE CAFE</td>\n",
       "      <td>1200 VAN NESS AVE, 3RD FLOOR</td>\n",
       "      <td>San Francisco</td>\n",
       "      <td>CA</td>\n",
       "      <td>94109</td>\n",
       "      <td>37.786848</td>\n",
       "      <td>-122.421547</td>\n",
       "      <td>+14157763262</td>\n",
       "      <td>94.666667</td>\n",
       "    </tr>\n",
       "    <tr>\n",
       "      <th>2</th>\n",
       "      <td>24</td>\n",
       "      <td>OMNI S.F. HOTEL - 2ND FLOOR PANTRY</td>\n",
       "      <td>500 CALIFORNIA ST, 2ND  FLOOR</td>\n",
       "      <td>San Francisco</td>\n",
       "      <td>CA</td>\n",
       "      <td>94104</td>\n",
       "      <td>37.792888</td>\n",
       "      <td>-122.403135</td>\n",
       "      <td>+14156779494</td>\n",
       "      <td>97.000000</td>\n",
       "    </tr>\n",
       "    <tr>\n",
       "      <th>3</th>\n",
       "      <td>31</td>\n",
       "      <td>NORMAN'S ICE CREAM AND FREEZES</td>\n",
       "      <td>2801 LEAVENWORTH ST</td>\n",
       "      <td>San Francisco</td>\n",
       "      <td>CA</td>\n",
       "      <td>94133</td>\n",
       "      <td>37.807155</td>\n",
       "      <td>-122.419004</td>\n",
       "      <td>NaN</td>\n",
       "      <td>99.000000</td>\n",
       "    </tr>\n",
       "    <tr>\n",
       "      <th>4</th>\n",
       "      <td>45</td>\n",
       "      <td>CHARLIE'S DELI CAFE</td>\n",
       "      <td>3202 FOLSOM ST</td>\n",
       "      <td>San Francisco</td>\n",
       "      <td>CA</td>\n",
       "      <td>94110</td>\n",
       "      <td>37.747114</td>\n",
       "      <td>-122.413641</td>\n",
       "      <td>+14156415051</td>\n",
       "      <td>88.666667</td>\n",
       "    </tr>\n",
       "  </tbody>\n",
       "</table>\n",
       "</div>"
      ],
      "text/plain": [
       "   business_id                                name  \\\n",
       "0           10                    TIRAMISU KITCHEN   \n",
       "1           19               NRGIZE LIFESTYLE CAFE   \n",
       "2           24  OMNI S.F. HOTEL - 2ND FLOOR PANTRY   \n",
       "3           31      NORMAN'S ICE CREAM AND FREEZES   \n",
       "4           45                 CHARLIE'S DELI CAFE   \n",
       "\n",
       "                         address           city state postal_code   latitude  \\\n",
       "0                  033 BELDEN PL  San Francisco    CA       94104  37.791116   \n",
       "1   1200 VAN NESS AVE, 3RD FLOOR  San Francisco    CA       94109  37.786848   \n",
       "2  500 CALIFORNIA ST, 2ND  FLOOR  San Francisco    CA       94104  37.792888   \n",
       "3           2801 LEAVENWORTH ST   San Francisco    CA       94133  37.807155   \n",
       "4                3202 FOLSOM ST   San Francisco    CA       94110  37.747114   \n",
       "\n",
       "    longitude  phone_number      score  \n",
       "0 -122.403816  +14154217044  93.000000  \n",
       "1 -122.421547  +14157763262  94.666667  \n",
       "2 -122.403135  +14156779494  97.000000  \n",
       "3 -122.419004           NaN  99.000000  \n",
       "4 -122.413641  +14156415051  88.666667  "
      ]
     },
     "execution_count": 38,
     "metadata": {},
     "output_type": "execute_result"
    }
   ],
   "source": [
    "businessbymeanscore.head()"
   ]
  },
  {
   "cell_type": "code",
   "execution_count": 39,
   "metadata": {
    "collapsed": false
   },
   "outputs": [
    {
     "data": {
      "text/html": [
       "<div>\n",
       "<table border=\"1\" class=\"dataframe\">\n",
       "  <thead>\n",
       "    <tr style=\"text-align: right;\">\n",
       "      <th></th>\n",
       "      <th>Minimum_Score</th>\n",
       "      <th>Maximum_Score</th>\n",
       "      <th>Description</th>\n",
       "    </tr>\n",
       "  </thead>\n",
       "  <tbody>\n",
       "    <tr>\n",
       "      <th>0</th>\n",
       "      <td>0</td>\n",
       "      <td>70</td>\n",
       "      <td>Poor</td>\n",
       "    </tr>\n",
       "    <tr>\n",
       "      <th>1</th>\n",
       "      <td>71</td>\n",
       "      <td>85</td>\n",
       "      <td>Needs Improvement</td>\n",
       "    </tr>\n",
       "    <tr>\n",
       "      <th>2</th>\n",
       "      <td>86</td>\n",
       "      <td>90</td>\n",
       "      <td>Adequate</td>\n",
       "    </tr>\n",
       "    <tr>\n",
       "      <th>3</th>\n",
       "      <td>91</td>\n",
       "      <td>100</td>\n",
       "      <td>Good</td>\n",
       "    </tr>\n",
       "  </tbody>\n",
       "</table>\n",
       "</div>"
      ],
      "text/plain": [
       "   Minimum_Score  Maximum_Score        Description\n",
       "0              0             70               Poor\n",
       "1             71             85  Needs Improvement\n",
       "2             86             90           Adequate\n",
       "3             91            100               Good"
      ]
     },
     "execution_count": 39,
     "metadata": {},
     "output_type": "execute_result"
    }
   ],
   "source": [
    "legend_df.head()"
   ]
  },
  {
   "cell_type": "code",
   "execution_count": 40,
   "metadata": {
    "collapsed": false
   },
   "outputs": [
    {
     "name": "stdout",
     "output_type": "stream",
     "text": [
      "routine     15428\n",
      "followUp        3\n",
      "Name: type, dtype: int64\n"
     ]
    },
    {
     "data": {
      "text/html": [
       "<div>\n",
       "<table border=\"1\" class=\"dataframe\">\n",
       "  <thead>\n",
       "    <tr style=\"text-align: right;\">\n",
       "      <th></th>\n",
       "      <th>business_id</th>\n",
       "      <th>score</th>\n",
       "      <th>date</th>\n",
       "      <th>type</th>\n",
       "    </tr>\n",
       "  </thead>\n",
       "  <tbody>\n",
       "    <tr>\n",
       "      <th>0</th>\n",
       "      <td>10</td>\n",
       "      <td>94</td>\n",
       "      <td>20140729</td>\n",
       "      <td>routine</td>\n",
       "    </tr>\n",
       "    <tr>\n",
       "      <th>1</th>\n",
       "      <td>10</td>\n",
       "      <td>92</td>\n",
       "      <td>20140114</td>\n",
       "      <td>routine</td>\n",
       "    </tr>\n",
       "    <tr>\n",
       "      <th>2</th>\n",
       "      <td>19</td>\n",
       "      <td>94</td>\n",
       "      <td>20141110</td>\n",
       "      <td>routine</td>\n",
       "    </tr>\n",
       "    <tr>\n",
       "      <th>3</th>\n",
       "      <td>19</td>\n",
       "      <td>94</td>\n",
       "      <td>20140214</td>\n",
       "      <td>routine</td>\n",
       "    </tr>\n",
       "    <tr>\n",
       "      <th>4</th>\n",
       "      <td>19</td>\n",
       "      <td>96</td>\n",
       "      <td>20130904</td>\n",
       "      <td>routine</td>\n",
       "    </tr>\n",
       "  </tbody>\n",
       "</table>\n",
       "</div>"
      ],
      "text/plain": [
       "   business_id  score      date     type\n",
       "0           10     94  20140729  routine\n",
       "1           10     92  20140114  routine\n",
       "2           19     94  20141110  routine\n",
       "3           19     94  20140214  routine\n",
       "4           19     96  20130904  routine"
      ]
     },
     "execution_count": 40,
     "metadata": {},
     "output_type": "execute_result"
    }
   ],
   "source": [
    "print inspection_df['type'].value_counts()\n",
    "inspection_df.head()\n"
   ]
  },
  {
   "cell_type": "code",
   "execution_count": 41,
   "metadata": {
    "collapsed": false,
    "scrolled": true
   },
   "outputs": [
    {
     "data": {
      "text/html": [
       "<div>\n",
       "<table border=\"1\" class=\"dataframe\">\n",
       "  <thead>\n",
       "    <tr style=\"text-align: right;\">\n",
       "      <th></th>\n",
       "      <th>business_id</th>\n",
       "      <th>date</th>\n",
       "      <th>description</th>\n",
       "    </tr>\n",
       "  </thead>\n",
       "  <tbody>\n",
       "    <tr>\n",
       "      <th>0</th>\n",
       "      <td>10</td>\n",
       "      <td>20140729</td>\n",
       "      <td>Insufficient hot water or running water  [ dat...</td>\n",
       "    </tr>\n",
       "    <tr>\n",
       "      <th>1</th>\n",
       "      <td>10</td>\n",
       "      <td>20140729</td>\n",
       "      <td>Unapproved or unmaintained equipment or utensi...</td>\n",
       "    </tr>\n",
       "    <tr>\n",
       "      <th>2</th>\n",
       "      <td>10</td>\n",
       "      <td>20140114</td>\n",
       "      <td>Inadequate and inaccessible handwashing facili...</td>\n",
       "    </tr>\n",
       "    <tr>\n",
       "      <th>3</th>\n",
       "      <td>10</td>\n",
       "      <td>20140114</td>\n",
       "      <td>Unclean or degraded floors walls or ceilings  ...</td>\n",
       "    </tr>\n",
       "    <tr>\n",
       "      <th>4</th>\n",
       "      <td>10</td>\n",
       "      <td>20140114</td>\n",
       "      <td>Improper storage of equipment utensils or line...</td>\n",
       "    </tr>\n",
       "  </tbody>\n",
       "</table>\n",
       "</div>"
      ],
      "text/plain": [
       "   business_id      date                                        description\n",
       "0           10  20140729  Insufficient hot water or running water  [ dat...\n",
       "1           10  20140729  Unapproved or unmaintained equipment or utensi...\n",
       "2           10  20140114  Inadequate and inaccessible handwashing facili...\n",
       "3           10  20140114  Unclean or degraded floors walls or ceilings  ...\n",
       "4           10  20140114  Improper storage of equipment utensils or line..."
      ]
     },
     "execution_count": 41,
     "metadata": {},
     "output_type": "execute_result"
    }
   ],
   "source": [
    "violations_df.head()"
   ]
  },
  {
   "cell_type": "markdown",
   "metadata": {},
   "source": [
    "<img src=\"http://imgur.com/l5NasQj.png\" style=\"float: left; margin: 25px 15px 0px 0px; height: 25px\">\n",
    "\n",
    "### 4. Conduct another, different analysis and report on it\n",
    "\n",
    "---\n",
    "\n",
    "1. Combining multiple sources of data (csv files) is required.\n",
    "- Perform EDA and cleaning on relevant data.\n",
    "- Construct and compare different regression models with cross-validation.\n",
    "- Plot descriptive visuals you think are useful for understanding the data.\n",
    "- Report on your findings.\n",
    "\n",
    "This section is just another analysis like the first sections, but is more open-ended in what models you decide to build and why. Don't feel obligated to try every out every regularized regression model (though it doesn't hurt). \n"
   ]
  },
  {
   "cell_type": "code",
   "execution_count": 49,
   "metadata": {
    "collapsed": false,
    "scrolled": false
   },
   "outputs": [
    {
     "name": "stdout",
     "output_type": "stream",
     "text": [
      "15431\n",
      "39917\n",
      "5513\n",
      "5022\n"
     ]
    }
   ],
   "source": [
    "\n",
    "print len(inspection_df)\n",
    "print len(violations_df)\n",
    "print len(inspection_df['business_id'].unique())\n",
    "print len(violations_df['business_id'].unique())\n",
    "\n",
    "merged_violation_relative_score = violations_df.merge(inspection_df, on=['business_id', 'date'], how='left')\n",
    "\n",
    "merged_violation_relative_score['date'] = merged_violation_relative_score['date'].map(lambda x: \n",
    "                                                                                      (pd.to_datetime(x,\n",
    "                                                                                                      format='%Y%m%d')))\n",
    "\n",
    "merged_violation_relative_score['date_int'] = merged_violation_relative_score['date'].astype(np.int64)"
   ]
  },
  {
   "cell_type": "code",
   "execution_count": 50,
   "metadata": {
    "collapsed": false
   },
   "outputs": [],
   "source": [
    "merged_violation_relative_score.index = merged_violation_relative_score['date']"
   ]
  },
  {
   "cell_type": "code",
   "execution_count": 51,
   "metadata": {
    "collapsed": false
   },
   "outputs": [
    {
     "data": {
      "image/png": "[encoded data removed]",
      "text/plain": [
       "<matplotlib.figure.Figure at 0x7fc9ffd4f950>"
      ]
     },
     "metadata": {},
     "output_type": "display_data"
    }
   ],
   "source": [
    "reampled = merged_violation_relative_score.resample(\"M\").mean()['score'].plot()"
   ]
  },
  {
   "cell_type": "code",
   "execution_count": 52,
   "metadata": {
    "collapsed": false,
    "scrolled": false
   },
   "outputs": [
    {
     "name": "stdout",
     "output_type": "stream",
     "text": [
      "<class 'pandas.core.frame.DataFrame'>\n",
      "DatetimeIndex: 39921 entries, 2014-07-29 to 2016-04-11\n",
      "Data columns (total 6 columns):\n",
      "business_id    39921 non-null int64\n",
      "date           39921 non-null datetime64[ns]\n",
      "description    39921 non-null object\n",
      "score          38846 non-null float64\n",
      "type           38846 non-null object\n",
      "date_int       39921 non-null int64\n",
      "dtypes: datetime64[ns](1), float64(1), int64(2), object(2)\n",
      "memory usage: 2.1+ MB\n"
     ]
    },
    {
     "data": {
      "text/plain": [
       "<matplotlib.axes._subplots.AxesSubplot at 0x7fc9ffbb4810>"
      ]
     },
     "execution_count": 52,
     "metadata": {},
     "output_type": "execute_result"
    },
    {
     "data": {
      "image/png": "[encoded data removed]",
      "text/plain": [
       "<matplotlib.figure.Figure at 0x7fc9fdbe0890>"
      ]
     },
     "metadata": {},
     "output_type": "display_data"
    }
   ],
   "source": [
    "merged_violation_relative_score.info()\n",
    "merged_violation_relative_score.index = merged_violation_relative_score['date']\n",
    "sns.boxplot(x=merged_violation_relative_score.index.month, y='score', data=merged_violation_relative_score)"
   ]
  },
  {
   "cell_type": "code",
   "execution_count": 53,
   "metadata": {
    "collapsed": false,
    "scrolled": true
   },
   "outputs": [
    {
     "data": {
      "text/plain": [
       "5022"
      ]
     },
     "execution_count": 53,
     "metadata": {},
     "output_type": "execute_result"
    }
   ],
   "source": [
    "len(merged_violation_relative_score['business_id'].unique())"
   ]
  },
  {
   "cell_type": "code",
   "execution_count": 58,
   "metadata": {
    "collapsed": false
   },
   "outputs": [
    {
     "data": {
      "image/png": "[encoded data removed]",
      "text/plain": [
       "<matplotlib.figure.Figure at 0x7fc9fd92ce10>"
      ]
     },
     "metadata": {},
     "output_type": "display_data"
    }
   ],
   "source": [
    "lm = linear_model.LinearRegression()\n",
    "y_1, X_1 = patsy.dmatrices(formula_like='score ~ date_int -1',\n",
    "                       data = merged_violation_relative_score,\n",
    "                       return_type='dataframe')\n",
    "model = lm.fit(X_1,y_1)\n",
    "predictions = model.predict(X_1)\n",
    "plot_regression_wbaseline(X_1, y_1, predictions, 'Number of Inspections', 'relative score')"
   ]
  },
  {
   "cell_type": "code",
   "execution_count": 59,
   "metadata": {
    "collapsed": false
   },
   "outputs": [
    {
     "name": "stdout",
     "output_type": "stream",
     "text": [
      "LASSO ----------\n",
      "Best est:  Lasso(alpha=106, copy_X=True, fit_intercept=True, max_iter=1000,\n",
      "   normalize=False, positive=False, precompute=False, random_state=None,\n",
      "   selection='cyclic', tol=0.0001, warm_start=False)\n",
      "Best params:  {'normalize': False, 'alpha': 106, 'fit_intercept': True}\n",
      "Best  score:  -0.00700594511743\n",
      "RIDGE -------\n",
      "Ridge(alpha=1.0, copy_X=True, fit_intercept=True, max_iter=None,\n",
      "   normalize=False, random_state=None, solver='auto', tol=0.001)\n",
      "Best Alpha:  {'alpha': 1.0}\n",
      "Best score:  -0.00700594511743\n",
      "ELASTIC NET-------\n",
      "Best est:  ElasticNet(alpha=1.0, copy_X=True, fit_intercept=True, l1_ratio=0.01,\n",
      "      max_iter=1000, normalize=False, positive=False, precompute=False,\n",
      "      random_state=None, selection='cyclic', tol=0.0001, warm_start=False)\n",
      "Best params:  {'l1_ratio': 0.01}\n",
      "Best  score:  -0.00700594511743\n"
     ]
    }
   ],
   "source": [
    "from sklearn.linear_model import LinearRegression, Ridge, Lasso, RidgeCV, LassoCV, ElasticNet\n",
    "from sklearn import grid_search\n",
    "\n",
    "num_alpha = np.arange(1, 200, 5)\n",
    "\n",
    "search_parameters = {\n",
    "    'alpha': num_alpha,\n",
    "    'fit_intercept':  [True, False], \n",
    "    'normalize':      [False, True]\n",
    "}\n",
    "\n",
    "\n",
    "lasso = Lasso()\n",
    "estimator = grid_search.GridSearchCV(lasso, search_parameters, cv=5)\n",
    "results = estimator.fit(X_1, y_1)\n",
    "\n",
    "print 'LASSO ----------'\n",
    "print 'Best est: ', results.best_estimator_\n",
    "print 'Best params: ', results.best_params_\n",
    "print 'Best  score: ', results.best_score_\n",
    "\n",
    "ridge = Ridge()\n",
    "search_params = {\n",
    "    'alpha' : np.logspace(0, 10, 2)\n",
    "}\n",
    "\n",
    "\n",
    "\n",
    "ridge_estimate = grid_search.GridSearchCV(ridge, search_params, cv=5)\n",
    "\n",
    "\n",
    "r_results = ridge_estimate.fit(X_1,y_1)\n",
    "\n",
    "print 'RIDGE -------'\n",
    "print r_results.best_estimator_\n",
    "print 'Best Alpha: ', r_results.best_params_\n",
    "print 'Best score: ', r_results.best_score_\n",
    "\n",
    "elas = ElasticNet()\n",
    "\n",
    "elas_params = {\n",
    "    'l1_ratio': np.linspace(0.01, 1.0, 50)\n",
    "}\n",
    "\n",
    "elas_estimate = grid_search.GridSearchCV(elas, elas_params, cv=5)\n",
    "\n",
    "e_results = elas_estimate.fit(X_1, y_1)\n",
    "print 'ELASTIC NET-------'\n",
    "print 'Best est: ', e_results.best_estimator_\n",
    "print 'Best params: ', e_results.best_params_\n",
    "print 'Best  score: ', e_results.best_score_"
   ]
  },
  {
   "cell_type": "code",
   "execution_count": null,
   "metadata": {
    "collapsed": true
   },
   "outputs": [],
   "source": [
    "'''\n",
    "The regression of the stores that apeared in the vilations.csv file wasn't\n",
    "conclusive about a relationship between the overall score of a business and\n",
    "the time of the year, however there is a pattern observed in the first\n",
    "graph, and further explored in the boxplot by the min values of the boxplots\n",
    "that shows dips in mean score for common times of the year around the end of the year.\n",
    "I also believe there are logical outliers in the dataset as even after exclusively\n",
    "merging the inspections dataset to the violations dataset, there were businesses\n",
    "that ended up scoring above 90, and sometimes perfectly with 100. This is seemingly\n",
    "impossible as for the business to appear in the violations dataset, I would imagine \n",
    "that they would, by default, have a score < 100.\n",
    "'''"
   ]
  },
  {
   "cell_type": "markdown",
   "metadata": {},
   "source": [
    "<img src=\"http://imgur.com/GCAf1UX.png\" style=\"float: left; margin: 25px 15px 0px 0px; height: 25px\">\n",
    "\n",
    "## 5. Bias-variance tradeoff\n",
    "\n",
    "---\n",
    "\n",
    "1. Select San Francisco data of your choice and construct a regularized regression model (this can be data from an earlier analysis if you like). Ideally the model should actually improve across regularization strengths...\n",
    "- Gridsearch the regularization parameters to find the optimal.\n",
    "- Plot the regularization parameter against the cross-validated $R^2$.\n",
    "- Explain how regularization and regularization strength is related to the bias-variance tradeoff.\n"
   ]
  },
  {
   "cell_type": "code",
   "execution_count": null,
   "metadata": {
    "collapsed": true
   },
   "outputs": [],
   "source": []
  },
  {
   "cell_type": "markdown",
   "metadata": {},
   "source": [
    "<img src=\"http://imgur.com/xDpSobf.png\" style=\"float: left; margin: 25px 15px 0px 0px; height: 25px\">\n",
    "\n",
    "### 5.1 Calculate the approximated $\\text{bias}^2$ and variance across regularization strengths.\n",
    "\n",
    "---\n",
    "\n",
    "You can obviously use my code from the bias-variance lab to do this. \n",
    "\n",
    "Plot the bias and variance change _with_ the cross-validated $R^2$. \n",
    "\n",
    "You'll need to scale these values somehow to put them on the same chart (I recommend (MinMaxScaler)[http://scikit-learn.org/stable/modules/generated/sklearn.preprocessing.MinMaxScaler.html] to put $\\text{bias}^2$ and variance on the same scale as cross-validated $R^2$."
   ]
  },
  {
   "cell_type": "code",
   "execution_count": null,
   "metadata": {
    "collapsed": true
   },
   "outputs": [],
   "source": []
  },
  {
   "cell_type": "markdown",
   "metadata": {},
   "source": [
    "<img src=\"http://imgur.com/HNPKfE8.png\" style=\"float: left; margin: 25px 15px 0px 0px; height: 25px\">\n",
    "\n",
    "## 6. Custom regularized regression penalties\n",
    "\n",
    "---\n",
    "\n",
    "The $\\lambda1$ and $\\lambda2$ norm regularization penalties (Lasso and Ridge) are the most commonly used regularization penalties. They have a solid foundation in statistics and evidence of effectiveness. However, these are not the only possible penalties for regression – sometimes new, customized penalties give additional performance and predictive power to models depending on the context.\n",
    "\n",
    "For example, when I worked in neuroscience [we created an effective penalized regression dubbed \"GraphNet\"](http://arxiv.org/abs/1110.4139) that combined the Lasso and Ridge penalties like in Elastic net with a third penalty that rewarded clustering of coefficients according to physical distance in FMRI brain activation data.\n",
    "\n",
    "**Devise of and implement a penalized regression for San Francisco data.** What is your rationale – why would this be useful? How does it perform compared to the standard Ridge, Lasso, and Elastic Net penalties?"
   ]
  },
  {
   "cell_type": "code",
   "execution_count": null,
   "metadata": {
    "collapsed": true
   },
   "outputs": [],
   "source": []
  }
 ],
 "metadata": {
  "anaconda-cloud": {},
  "kernelspec": {
   "display_name": "Python [dsi]",
   "language": "python",
   "name": "Python [dsi]"
  },
  "language_info": {
   "codemirror_mode": {
    "name": "ipython",
    "version": 2
   },
   "file_extension": ".py",
   "mimetype": "text/x-python",
   "name": "python",
   "nbconvert_exporter": "python",
   "pygments_lexer": "ipython2",
   "version": "2.7.12"
  }
 },
 "nbformat": 4,
 "nbformat_minor": 0
}

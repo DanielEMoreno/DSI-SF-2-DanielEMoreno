{
 "cells": [
  {
   "cell_type": "code",
   "execution_count": 74,
   "metadata": {
    "collapsed": false
   },
   "outputs": [
    {
     "data": {
      "text/plain": [
       "u'/home/dsi-student/Desktop/DSI-SF-2-DanielEMoreno/code/week-02review/cryptocurrencies'"
      ]
     },
     "execution_count": 74,
     "metadata": {},
     "output_type": "execute_result"
    }
   ],
   "source": [
    "pwd\n"
   ]
  },
  {
   "cell_type": "code",
   "execution_count": 6,
   "metadata": {
    "collapsed": true
   },
   "outputs": [],
   "source": [
    "import pandas as pd\n",
    "import numpy as np\n",
    "import matplotlib as plt\n",
    "import seaborn as sns\n",
    "\n",
    "\n",
    "currencies_csv = pd.read_csv('Currencies and Assets.csv')\n",
    "markets_csv = pd.read_csv('Exchanges and Markets.csv')\n",
    "\n",
    "market = pd.DataFrame(markets_csv)\n",
    "currency = pd.DataFrame(currencies_csv)"
   ]
  },
  {
   "cell_type": "code",
   "execution_count": 69,
   "metadata": {
    "collapsed": false,
    "scrolled": true
   },
   "outputs": [
    {
     "name": "stdout",
     "output_type": "stream",
     "text": [
      "<class 'pandas.core.frame.DataFrame'>\n",
      "RangeIndex: 533 entries, 0 to 532\n",
      "Data columns (total 12 columns):\n",
      "Available suppy          485 non-null float64\n",
      "Image                    533 non-null object\n",
      "Market Capitalization    485 non-null float64\n",
      "More Information         519 non-null object\n",
      "Name                     533 non-null object\n",
      "Platform                 28 non-null object\n",
      "Price                    533 non-null float64\n",
      "Profile                  533 non-null object\n",
      "Status                   380 non-null object\n",
      "Symbol                   504 non-null object\n",
      "Type                     533 non-null object\n",
      "Volume (17 Oct. '14)     506 non-null object\n",
      "dtypes: float64(3), object(9)\n",
      "memory usage: 50.0+ KB\n"
     ]
    }
   ],
   "source": [
    "header = currencies_csv.columns\n",
    "parsed_currencies = {k:[] for k in header}\n",
    "for items in currencies_csv:\n",
    "    for index, item in enumerate(currencies_csv[items]):\n",
    "        try:\n",
    "            if item == 'Unknown':\n",
    "                parsed_currencies[items].append(np.nan)\n",
    "            else:\n",
    "                newitem = item.replace('$', '')\n",
    "                newnewitem = newitem.replace(',', '')\n",
    "                parsed_currencies[items].append(float(newnewitem))\n",
    "        except:\n",
    "            try:\n",
    "                parsed_currencies[items].append(float(item))\n",
    "            except:\n",
    "                parsed_currencies[items].append(item)\n",
    "parsed_currencies_df = pd.DataFrame(parsed_currencies)\n",
    "parsed_currencies_df.head(4)\n",
    "parsed_currencies_df.info()\n"
   ]
  },
  {
   "cell_type": "code",
   "execution_count": 72,
   "metadata": {
    "collapsed": false
   },
   "outputs": [
    {
     "data": {
      "text/html": [
       "<div>\n",
       "<table border=\"1\" class=\"dataframe\">\n",
       "  <thead>\n",
       "    <tr style=\"text-align: right;\">\n",
       "      <th></th>\n",
       "      <th>Name</th>\n",
       "      <th>Image</th>\n",
       "      <th>Type</th>\n",
       "      <th>Status</th>\n",
       "      <th>Symbol</th>\n",
       "      <th>Platform</th>\n",
       "      <th>Market Capitalization</th>\n",
       "      <th>Price</th>\n",
       "      <th>Available suppy</th>\n",
       "      <th>Volume (17 Oct. '14)</th>\n",
       "      <th>More Information</th>\n",
       "      <th>Profile</th>\n",
       "    </tr>\n",
       "  </thead>\n",
       "  <tbody>\n",
       "    <tr>\n",
       "      <th>0</th>\n",
       "      <td>RosCoin</td>\n",
       "      <td>https://coinmarketcap.com/static/img/coins/16x...</td>\n",
       "      <td>Cryptocurrency</td>\n",
       "      <td>NaN</td>\n",
       "      <td>ROS</td>\n",
       "      <td>NaN</td>\n",
       "      <td>$39,669</td>\n",
       "      <td>$0.00</td>\n",
       "      <td>75,737,672</td>\n",
       "      <td>$14,995</td>\n",
       "      <td>http://216.231.132.86:2000/chain/Roscoin</td>\n",
       "      <td>https://coinmarketcap.com/currencies/roscoin/</td>\n",
       "    </tr>\n",
       "    <tr>\n",
       "      <th>1</th>\n",
       "      <td>365Coin</td>\n",
       "      <td>https://coinmarketcap.com/static/img/coins/16x...</td>\n",
       "      <td>Cryptocurrency</td>\n",
       "      <td>Minable</td>\n",
       "      <td>365</td>\n",
       "      <td>NaN</td>\n",
       "      <td>$2,714</td>\n",
       "      <td>$19.42</td>\n",
       "      <td>140</td>\n",
       "      <td>Unknown</td>\n",
       "      <td>http://365coin.net/</td>\n",
       "      <td>https://coinmarketcap.com/currencies/365coin/</td>\n",
       "    </tr>\n",
       "    <tr>\n",
       "      <th>2</th>\n",
       "      <td>DarkFox</td>\n",
       "      <td>https://coinmarketcap.com/static/img/coins/16x...</td>\n",
       "      <td>Cryptocurrency</td>\n",
       "      <td>NaN</td>\n",
       "      <td>DRX</td>\n",
       "      <td>NaN</td>\n",
       "      <td>$304</td>\n",
       "      <td>$0.00</td>\n",
       "      <td>576,390</td>\n",
       "      <td>Unknown</td>\n",
       "      <td>http://62.113.238.105/chain/darkfox</td>\n",
       "      <td>https://coinmarketcap.com/currencies/darkfox/</td>\n",
       "    </tr>\n",
       "    <tr>\n",
       "      <th>3</th>\n",
       "      <td>66 Coin</td>\n",
       "      <td>https://coinmarketcap.com/static/img/coins/16x...</td>\n",
       "      <td>Cryptocurrency</td>\n",
       "      <td>Minable</td>\n",
       "      <td>66</td>\n",
       "      <td>NaN</td>\n",
       "      <td>Unknown</td>\n",
       "      <td>$30.59</td>\n",
       "      <td>Unknown</td>\n",
       "      <td>Low</td>\n",
       "      <td>http://66coin.org/</td>\n",
       "      <td>https://coinmarketcap.com/currencies/66-coin/</td>\n",
       "    </tr>\n",
       "    <tr>\n",
       "      <th>4</th>\n",
       "      <td>Acoin</td>\n",
       "      <td>https://coinmarketcap.com/static/img/coins/16x...</td>\n",
       "      <td>Cryptocurrency</td>\n",
       "      <td>Minable</td>\n",
       "      <td>ACOIN</td>\n",
       "      <td>NaN</td>\n",
       "      <td>$3,168</td>\n",
       "      <td>$0.02</td>\n",
       "      <td>150,530</td>\n",
       "      <td>$71</td>\n",
       "      <td>http://a-coin.info</td>\n",
       "      <td>https://coinmarketcap.com/currencies/acoin/</td>\n",
       "    </tr>\n",
       "  </tbody>\n",
       "</table>\n",
       "</div>"
      ],
      "text/plain": [
       "      Name                                              Image            Type  \\\n",
       "0  RosCoin  https://coinmarketcap.com/static/img/coins/16x...  Cryptocurrency   \n",
       "1  365Coin  https://coinmarketcap.com/static/img/coins/16x...  Cryptocurrency   \n",
       "2  DarkFox  https://coinmarketcap.com/static/img/coins/16x...  Cryptocurrency   \n",
       "3  66 Coin  https://coinmarketcap.com/static/img/coins/16x...  Cryptocurrency   \n",
       "4    Acoin  https://coinmarketcap.com/static/img/coins/16x...  Cryptocurrency   \n",
       "\n",
       "    Status Symbol Platform Market Capitalization   Price Available suppy  \\\n",
       "0      NaN    ROS      NaN               $39,669   $0.00      75,737,672   \n",
       "1  Minable    365      NaN                $2,714  $19.42             140   \n",
       "2      NaN    DRX      NaN                  $304   $0.00         576,390   \n",
       "3  Minable     66      NaN               Unknown  $30.59         Unknown   \n",
       "4  Minable  ACOIN      NaN                $3,168   $0.02         150,530   \n",
       "\n",
       "  Volume (17 Oct. '14)                          More Information  \\\n",
       "0              $14,995  http://216.231.132.86:2000/chain/Roscoin   \n",
       "1              Unknown                       http://365coin.net/   \n",
       "2              Unknown       http://62.113.238.105/chain/darkfox   \n",
       "3                  Low                        http://66coin.org/   \n",
       "4                  $71                        http://a-coin.info   \n",
       "\n",
       "                                         Profile  \n",
       "0  https://coinmarketcap.com/currencies/roscoin/  \n",
       "1  https://coinmarketcap.com/currencies/365coin/  \n",
       "2  https://coinmarketcap.com/currencies/darkfox/  \n",
       "3  https://coinmarketcap.com/currencies/66-coin/  \n",
       "4    https://coinmarketcap.com/currencies/acoin/  "
      ]
     },
     "execution_count": 72,
     "metadata": {},
     "output_type": "execute_result"
    }
   ],
   "source": [
    "currencies_df.head()"
   ]
  },
  {
   "cell_type": "code",
   "execution_count": 71,
   "metadata": {
    "collapsed": false
   },
   "outputs": [
    {
     "data": {
      "text/html": [
       "<div>\n",
       "<table border=\"1\" class=\"dataframe\">\n",
       "  <thead>\n",
       "    <tr style=\"text-align: right;\">\n",
       "      <th></th>\n",
       "      <th>Available suppy</th>\n",
       "      <th>Image</th>\n",
       "      <th>Market Capitalization</th>\n",
       "      <th>More Information</th>\n",
       "      <th>Name</th>\n",
       "      <th>Platform</th>\n",
       "      <th>Price</th>\n",
       "      <th>Profile</th>\n",
       "      <th>Status</th>\n",
       "      <th>Symbol</th>\n",
       "      <th>Type</th>\n",
       "      <th>Volume (17 Oct. '14)</th>\n",
       "    </tr>\n",
       "  </thead>\n",
       "  <tbody>\n",
       "    <tr>\n",
       "      <th>0</th>\n",
       "      <td>75737672.0</td>\n",
       "      <td>https://coinmarketcap.com/static/img/coins/16x...</td>\n",
       "      <td>39669.0</td>\n",
       "      <td>http://216.231.132.86:2000/chain/Roscoin</td>\n",
       "      <td>RosCoin</td>\n",
       "      <td>NaN</td>\n",
       "      <td>0.00</td>\n",
       "      <td>https://coinmarketcap.com/currencies/roscoin/</td>\n",
       "      <td>NaN</td>\n",
       "      <td>ROS</td>\n",
       "      <td>Cryptocurrency</td>\n",
       "      <td>14995</td>\n",
       "    </tr>\n",
       "    <tr>\n",
       "      <th>1</th>\n",
       "      <td>140.0</td>\n",
       "      <td>https://coinmarketcap.com/static/img/coins/16x...</td>\n",
       "      <td>2714.0</td>\n",
       "      <td>http://365coin.net/</td>\n",
       "      <td>365Coin</td>\n",
       "      <td>NaN</td>\n",
       "      <td>19.42</td>\n",
       "      <td>https://coinmarketcap.com/currencies/365coin/</td>\n",
       "      <td>Minable</td>\n",
       "      <td>365</td>\n",
       "      <td>Cryptocurrency</td>\n",
       "      <td>NaN</td>\n",
       "    </tr>\n",
       "    <tr>\n",
       "      <th>2</th>\n",
       "      <td>576390.0</td>\n",
       "      <td>https://coinmarketcap.com/static/img/coins/16x...</td>\n",
       "      <td>304.0</td>\n",
       "      <td>http://62.113.238.105/chain/darkfox</td>\n",
       "      <td>DarkFox</td>\n",
       "      <td>NaN</td>\n",
       "      <td>0.00</td>\n",
       "      <td>https://coinmarketcap.com/currencies/darkfox/</td>\n",
       "      <td>NaN</td>\n",
       "      <td>DRX</td>\n",
       "      <td>Cryptocurrency</td>\n",
       "      <td>NaN</td>\n",
       "    </tr>\n",
       "    <tr>\n",
       "      <th>3</th>\n",
       "      <td>NaN</td>\n",
       "      <td>https://coinmarketcap.com/static/img/coins/16x...</td>\n",
       "      <td>NaN</td>\n",
       "      <td>http://66coin.org/</td>\n",
       "      <td>66 Coin</td>\n",
       "      <td>NaN</td>\n",
       "      <td>30.59</td>\n",
       "      <td>https://coinmarketcap.com/currencies/66-coin/</td>\n",
       "      <td>Minable</td>\n",
       "      <td>66</td>\n",
       "      <td>Cryptocurrency</td>\n",
       "      <td>Low</td>\n",
       "    </tr>\n",
       "    <tr>\n",
       "      <th>4</th>\n",
       "      <td>150530.0</td>\n",
       "      <td>https://coinmarketcap.com/static/img/coins/16x...</td>\n",
       "      <td>3168.0</td>\n",
       "      <td>http://a-coin.info</td>\n",
       "      <td>Acoin</td>\n",
       "      <td>NaN</td>\n",
       "      <td>0.02</td>\n",
       "      <td>https://coinmarketcap.com/currencies/acoin/</td>\n",
       "      <td>Minable</td>\n",
       "      <td>ACOIN</td>\n",
       "      <td>Cryptocurrency</td>\n",
       "      <td>71</td>\n",
       "    </tr>\n",
       "  </tbody>\n",
       "</table>\n",
       "</div>"
      ],
      "text/plain": [
       "   Available suppy                                              Image  \\\n",
       "0       75737672.0  https://coinmarketcap.com/static/img/coins/16x...   \n",
       "1            140.0  https://coinmarketcap.com/static/img/coins/16x...   \n",
       "2         576390.0  https://coinmarketcap.com/static/img/coins/16x...   \n",
       "3              NaN  https://coinmarketcap.com/static/img/coins/16x...   \n",
       "4         150530.0  https://coinmarketcap.com/static/img/coins/16x...   \n",
       "\n",
       "   Market Capitalization                          More Information     Name  \\\n",
       "0                39669.0  http://216.231.132.86:2000/chain/Roscoin  RosCoin   \n",
       "1                 2714.0                       http://365coin.net/  365Coin   \n",
       "2                  304.0       http://62.113.238.105/chain/darkfox  DarkFox   \n",
       "3                    NaN                        http://66coin.org/  66 Coin   \n",
       "4                 3168.0                        http://a-coin.info    Acoin   \n",
       "\n",
       "  Platform  Price                                        Profile   Status  \\\n",
       "0      NaN   0.00  https://coinmarketcap.com/currencies/roscoin/      NaN   \n",
       "1      NaN  19.42  https://coinmarketcap.com/currencies/365coin/  Minable   \n",
       "2      NaN   0.00  https://coinmarketcap.com/currencies/darkfox/      NaN   \n",
       "3      NaN  30.59  https://coinmarketcap.com/currencies/66-coin/  Minable   \n",
       "4      NaN   0.02    https://coinmarketcap.com/currencies/acoin/  Minable   \n",
       "\n",
       "  Symbol            Type Volume (17 Oct. '14)  \n",
       "0    ROS  Cryptocurrency                14995  \n",
       "1    365  Cryptocurrency                  NaN  \n",
       "2    DRX  Cryptocurrency                  NaN  \n",
       "3     66  Cryptocurrency                  Low  \n",
       "4  ACOIN  Cryptocurrency                   71  "
      ]
     },
     "execution_count": 71,
     "metadata": {},
     "output_type": "execute_result"
    }
   ],
   "source": [
    "#priceperusdollar = volume/available supply\n",
    "parsed_currencies_df.head()"
   ]
  },
  {
   "cell_type": "code",
   "execution_count": null,
   "metadata": {
    "collapsed": false
   },
   "outputs": [],
   "source": []
  },
  {
   "cell_type": "code",
   "execution_count": null,
   "metadata": {
    "collapsed": true
   },
   "outputs": [],
   "source": []
  },
  {
   "cell_type": "code",
   "execution_count": 70,
   "metadata": {
    "collapsed": false
   },
   "outputs": [],
   "source": [
    "# market_df.head(10)\n",
    "# currencies_df['Name'].unique()\n",
    "# #currencies_df.shape"
   ]
  },
  {
   "cell_type": "code",
   "execution_count": null,
   "metadata": {
    "collapsed": true
   },
   "outputs": [],
   "source": []
  }
 ],
 "metadata": {
  "kernelspec": {
   "display_name": "Python [dsi]",
   "language": "python",
   "name": "Python [dsi]"
  },
  "language_info": {
   "codemirror_mode": {
    "name": "ipython",
    "version": 2
   },
   "file_extension": ".py",
   "mimetype": "text/x-python",
   "name": "python",
   "nbconvert_exporter": "python",
   "pygments_lexer": "ipython2",
   "version": "2.7.12"
  }
 },
 "nbformat": 4,
 "nbformat_minor": 0
}
